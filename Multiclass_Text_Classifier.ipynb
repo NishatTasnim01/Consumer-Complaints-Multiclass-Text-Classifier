{
  "cells": [
    {
      "cell_type": "markdown",
      "metadata": {
        "id": "view-in-github",
        "colab_type": "text"
      },
      "source": [
        "<a href=\"https://colab.research.google.com/github/NishatTasnim01/Consumer-Complaints-Multiclass-Text-Classifier/blob/main/Multiclass_Text_Classifier.ipynb\" target=\"_parent\"><img src=\"https://colab.research.google.com/assets/colab-badge.svg\" alt=\"Open In Colab\"/></a>"
      ]
    },
    {
      "cell_type": "markdown",
      "source": [
        "# **Multiclass Classification of Financial Complaints using Naive Bayes**"
      ],
      "metadata": {
        "id": "IZf0BylB6nga"
      },
      "id": "IZf0BylB6nga"
    },
    {
      "cell_type": "markdown",
      "source": [
        "# **Setup & Imports**"
      ],
      "metadata": {
        "id": "61XnAd-c7NQm"
      },
      "id": "61XnAd-c7NQm"
    },
    {
      "cell_type": "code",
      "execution_count": null,
      "id": "8651286a",
      "metadata": {
        "id": "8651286a"
      },
      "outputs": [],
      "source": [
        "import nltk\n",
        "from nltk.corpus import stopwords\n",
        "from nltk.tokenize import word_tokenize, RegexpTokenizer\n",
        "\n",
        "import pickle\n",
        "import pandas as pd\n",
        "from tqdm import tqdm\n",
        "import seaborn as sns\n",
        "import matplotlib.pyplot as plt\n",
        "from collections import Counter\n",
        "\n",
        "from sklearn.naive_bayes import MultinomialNB\n",
        "from sklearn.model_selection import train_test_split\n",
        "from sklearn.feature_extraction.text import CountVectorizer\n",
        "from sklearn.metrics import accuracy_score, confusion_matrix\n",
        "\n",
        "%matplotlib inline"
      ]
    },
    {
      "cell_type": "markdown",
      "id": "6d9a4a64",
      "metadata": {
        "id": "6d9a4a64"
      },
      "source": [
        "# **Data Cleaning & Exploration**"
      ]
    },
    {
      "cell_type": "code",
      "execution_count": null,
      "id": "8df84b39",
      "metadata": {
        "id": "8df84b39"
      },
      "outputs": [],
      "source": [
        "data = pd.read_csv(\"complaints.csv\")"
      ]
    },
    {
      "cell_type": "code",
      "execution_count": null,
      "id": "2bbfbbb9",
      "metadata": {
        "id": "2bbfbbb9",
        "outputId": "1d73a79f-2de8-4d84-b104-74aa9827777e"
      },
      "outputs": [
        {
          "data": {
            "text/plain": [
              "(2326246, 18)"
            ]
          },
          "execution_count": 5,
          "metadata": {},
          "output_type": "execute_result"
        }
      ],
      "source": [
        "data.shape"
      ]
    },
    {
      "cell_type": "code",
      "execution_count": null,
      "id": "8b0b0dea",
      "metadata": {
        "id": "8b0b0dea",
        "outputId": "62b2d267-ec5b-4cab-d50a-5445f2e19ddf"
      },
      "outputs": [
        {
          "data": {
            "text/html": [
              "<div>\n",
              "<style scoped>\n",
              "    .dataframe tbody tr th:only-of-type {\n",
              "        vertical-align: middle;\n",
              "    }\n",
              "\n",
              "    .dataframe tbody tr th {\n",
              "        vertical-align: top;\n",
              "    }\n",
              "\n",
              "    .dataframe thead th {\n",
              "        text-align: right;\n",
              "    }\n",
              "</style>\n",
              "<table border=\"1\" class=\"dataframe\">\n",
              "  <thead>\n",
              "    <tr style=\"text-align: right;\">\n",
              "      <th></th>\n",
              "      <th>Date received</th>\n",
              "      <th>Product</th>\n",
              "      <th>Sub-product</th>\n",
              "      <th>Issue</th>\n",
              "      <th>Sub-issue</th>\n",
              "      <th>Consumer complaint narrative</th>\n",
              "      <th>Company public response</th>\n",
              "      <th>Company</th>\n",
              "      <th>State</th>\n",
              "      <th>ZIP code</th>\n",
              "      <th>Tags</th>\n",
              "      <th>Consumer consent provided?</th>\n",
              "      <th>Submitted via</th>\n",
              "      <th>Date sent to company</th>\n",
              "      <th>Company response to consumer</th>\n",
              "      <th>Timely response?</th>\n",
              "      <th>Consumer disputed?</th>\n",
              "      <th>Complaint ID</th>\n",
              "    </tr>\n",
              "  </thead>\n",
              "  <tbody>\n",
              "    <tr>\n",
              "      <th>0</th>\n",
              "      <td>2019-06-13</td>\n",
              "      <td>Credit reporting, credit repair services, or o...</td>\n",
              "      <td>Credit reporting</td>\n",
              "      <td>Incorrect information on your report</td>\n",
              "      <td>Information belongs to someone else</td>\n",
              "      <td>NaN</td>\n",
              "      <td>NaN</td>\n",
              "      <td>CAPITAL ONE FINANCIAL CORPORATION</td>\n",
              "      <td>PA</td>\n",
              "      <td>186XX</td>\n",
              "      <td>NaN</td>\n",
              "      <td>Consent not provided</td>\n",
              "      <td>Web</td>\n",
              "      <td>2019-06-13</td>\n",
              "      <td>Closed with explanation</td>\n",
              "      <td>Yes</td>\n",
              "      <td>NaN</td>\n",
              "      <td>3274605</td>\n",
              "    </tr>\n",
              "    <tr>\n",
              "      <th>1</th>\n",
              "      <td>2019-11-01</td>\n",
              "      <td>Vehicle loan or lease</td>\n",
              "      <td>Loan</td>\n",
              "      <td>Struggling to pay your loan</td>\n",
              "      <td>Denied request to lower payments</td>\n",
              "      <td>I contacted Ally on Friday XX/XX/XXXX after fa...</td>\n",
              "      <td>Company has responded to the consumer and the ...</td>\n",
              "      <td>ALLY FINANCIAL INC.</td>\n",
              "      <td>NJ</td>\n",
              "      <td>088XX</td>\n",
              "      <td>NaN</td>\n",
              "      <td>Consent provided</td>\n",
              "      <td>Web</td>\n",
              "      <td>2019-11-01</td>\n",
              "      <td>Closed with explanation</td>\n",
              "      <td>Yes</td>\n",
              "      <td>NaN</td>\n",
              "      <td>3425257</td>\n",
              "    </tr>\n",
              "    <tr>\n",
              "      <th>2</th>\n",
              "      <td>2019-04-01</td>\n",
              "      <td>Credit reporting, credit repair services, or o...</td>\n",
              "      <td>Credit reporting</td>\n",
              "      <td>Incorrect information on your report</td>\n",
              "      <td>Account status incorrect</td>\n",
              "      <td>NaN</td>\n",
              "      <td>Company has responded to the consumer and the ...</td>\n",
              "      <td>TRANSUNION INTERMEDIATE HOLDINGS, INC.</td>\n",
              "      <td>PA</td>\n",
              "      <td>19067</td>\n",
              "      <td>NaN</td>\n",
              "      <td>Consent not provided</td>\n",
              "      <td>Web</td>\n",
              "      <td>2019-04-01</td>\n",
              "      <td>Closed with explanation</td>\n",
              "      <td>Yes</td>\n",
              "      <td>NaN</td>\n",
              "      <td>3198225</td>\n",
              "    </tr>\n",
              "    <tr>\n",
              "      <th>3</th>\n",
              "      <td>2021-11-01</td>\n",
              "      <td>Credit reporting, credit repair services, or o...</td>\n",
              "      <td>Credit reporting</td>\n",
              "      <td>Problem with a credit reporting company's inve...</td>\n",
              "      <td>Was not notified of investigation status or re...</td>\n",
              "      <td>NaN</td>\n",
              "      <td>NaN</td>\n",
              "      <td>TRANSUNION INTERMEDIATE HOLDINGS, INC.</td>\n",
              "      <td>GA</td>\n",
              "      <td>31707</td>\n",
              "      <td>NaN</td>\n",
              "      <td>NaN</td>\n",
              "      <td>Web</td>\n",
              "      <td>2021-11-01</td>\n",
              "      <td>In progress</td>\n",
              "      <td>Yes</td>\n",
              "      <td>NaN</td>\n",
              "      <td>4863965</td>\n",
              "    </tr>\n",
              "    <tr>\n",
              "      <th>4</th>\n",
              "      <td>2021-11-02</td>\n",
              "      <td>Debt collection</td>\n",
              "      <td>Medical debt</td>\n",
              "      <td>Took or threatened to take negative or legal a...</td>\n",
              "      <td>Threatened or suggested your credit would be d...</td>\n",
              "      <td>NaN</td>\n",
              "      <td>NaN</td>\n",
              "      <td>Medical Data Systems, Inc.</td>\n",
              "      <td>VA</td>\n",
              "      <td>22033</td>\n",
              "      <td>NaN</td>\n",
              "      <td>NaN</td>\n",
              "      <td>Web</td>\n",
              "      <td>2021-11-02</td>\n",
              "      <td>In progress</td>\n",
              "      <td>Yes</td>\n",
              "      <td>NaN</td>\n",
              "      <td>4866449</td>\n",
              "    </tr>\n",
              "  </tbody>\n",
              "</table>\n",
              "</div>"
            ],
            "text/plain": [
              "  Date received                                            Product  \\\n",
              "0    2019-06-13  Credit reporting, credit repair services, or o...   \n",
              "1    2019-11-01                              Vehicle loan or lease   \n",
              "2    2019-04-01  Credit reporting, credit repair services, or o...   \n",
              "3    2021-11-01  Credit reporting, credit repair services, or o...   \n",
              "4    2021-11-02                                    Debt collection   \n",
              "\n",
              "        Sub-product                                              Issue  \\\n",
              "0  Credit reporting               Incorrect information on your report   \n",
              "1              Loan                        Struggling to pay your loan   \n",
              "2  Credit reporting               Incorrect information on your report   \n",
              "3  Credit reporting  Problem with a credit reporting company's inve...   \n",
              "4      Medical debt  Took or threatened to take negative or legal a...   \n",
              "\n",
              "                                           Sub-issue  \\\n",
              "0                Information belongs to someone else   \n",
              "1                   Denied request to lower payments   \n",
              "2                           Account status incorrect   \n",
              "3  Was not notified of investigation status or re...   \n",
              "4  Threatened or suggested your credit would be d...   \n",
              "\n",
              "                        Consumer complaint narrative  \\\n",
              "0                                                NaN   \n",
              "1  I contacted Ally on Friday XX/XX/XXXX after fa...   \n",
              "2                                                NaN   \n",
              "3                                                NaN   \n",
              "4                                                NaN   \n",
              "\n",
              "                             Company public response  \\\n",
              "0                                                NaN   \n",
              "1  Company has responded to the consumer and the ...   \n",
              "2  Company has responded to the consumer and the ...   \n",
              "3                                                NaN   \n",
              "4                                                NaN   \n",
              "\n",
              "                                  Company State ZIP code Tags  \\\n",
              "0       CAPITAL ONE FINANCIAL CORPORATION    PA    186XX  NaN   \n",
              "1                     ALLY FINANCIAL INC.    NJ    088XX  NaN   \n",
              "2  TRANSUNION INTERMEDIATE HOLDINGS, INC.    PA    19067  NaN   \n",
              "3  TRANSUNION INTERMEDIATE HOLDINGS, INC.    GA    31707  NaN   \n",
              "4              Medical Data Systems, Inc.    VA    22033  NaN   \n",
              "\n",
              "  Consumer consent provided? Submitted via Date sent to company  \\\n",
              "0       Consent not provided           Web           2019-06-13   \n",
              "1           Consent provided           Web           2019-11-01   \n",
              "2       Consent not provided           Web           2019-04-01   \n",
              "3                        NaN           Web           2021-11-01   \n",
              "4                        NaN           Web           2021-11-02   \n",
              "\n",
              "  Company response to consumer Timely response? Consumer disputed?  \\\n",
              "0      Closed with explanation              Yes                NaN   \n",
              "1      Closed with explanation              Yes                NaN   \n",
              "2      Closed with explanation              Yes                NaN   \n",
              "3                  In progress              Yes                NaN   \n",
              "4                  In progress              Yes                NaN   \n",
              "\n",
              "   Complaint ID  \n",
              "0       3274605  \n",
              "1       3425257  \n",
              "2       3198225  \n",
              "3       4863965  \n",
              "4       4866449  "
            ]
          },
          "execution_count": 7,
          "metadata": {},
          "output_type": "execute_result"
        }
      ],
      "source": [
        "data.head()"
      ]
    },
    {
      "cell_type": "code",
      "execution_count": null,
      "id": "232fda21",
      "metadata": {
        "id": "232fda21",
        "outputId": "6eccf0a8-950a-4845-897d-69e1b4653f98"
      },
      "outputs": [
        {
          "data": {
            "text/plain": [
              "'Receiving daily telephone call ( s ) from XXXX XXXX XXXX identifying themselves as from an attorney \\'s office and I am unable to decifer the name after asking 3 times. They ask me to confirm that my name is \" prior married name \". I ask what they want and they repeat the question. I responded yes and they hang up. \\n\\nThe next call from that number was asking me if I was a different name - my maiden name which I recently change to. When I asked for clarification, they hung up. \\n\\nI have received a total of 6 calls in approx 2 days. They never divulge what they want after attempting to verify my name ( s )'"
            ]
          },
          "execution_count": 9,
          "metadata": {},
          "output_type": "execute_result"
        }
      ],
      "source": [
        "data[\"Consumer complaint narrative\"][13]"
      ]
    },
    {
      "cell_type": "code",
      "execution_count": null,
      "id": "c1fe71f3",
      "metadata": {
        "id": "c1fe71f3",
        "outputId": "ff4d2f74-fcad-4e06-cd18-e7f5e52e4843"
      },
      "outputs": [
        {
          "data": {
            "text/plain": [
              "'Credit reporting, credit repair services, or other personal consumer reports'"
            ]
          },
          "execution_count": 11,
          "metadata": {},
          "output_type": "execute_result"
        }
      ],
      "source": [
        "data[\"Product\"][13]"
      ]
    },
    {
      "cell_type": "code",
      "execution_count": null,
      "id": "31856b98",
      "metadata": {
        "id": "31856b98",
        "outputId": "47fc4336-3ccf-4270-8e6b-7db0a0622495"
      },
      "outputs": [
        {
          "data": {
            "text/plain": [
              "\"I was looking through my report and noticed a vehicle that I returned to the dealership where it's reporting completely incorrect. I had the opportunity to talk to several lawmakers and friends, and learned some basic laws in regards to voluntary or repossession of a vehicle. Under the laws of MASS and UCC 9.506 as well as State RISA and MVISA statutes, a deficiency can not be claimed unless all of the required notices were properly and timely given, and all of the allowable redemption and cure time limits were adhered to. PLEASE HAVE THEM IMMEDIATELY REMOVE\""
            ]
          },
          "execution_count": 13,
          "metadata": {},
          "output_type": "execute_result"
        }
      ],
      "source": [
        "data[\"Consumer complaint narrative\"][3401]"
      ]
    },
    {
      "cell_type": "code",
      "execution_count": null,
      "id": "b67fe52c",
      "metadata": {
        "id": "b67fe52c",
        "outputId": "7578fb35-44f9-4a13-bfed-4789adde91b4"
      },
      "outputs": [
        {
          "data": {
            "text/plain": [
              "'Vehicle loan or lease'"
            ]
          },
          "execution_count": 15,
          "metadata": {},
          "output_type": "execute_result"
        }
      ],
      "source": [
        "data[\"Product\"][3401]"
      ]
    },
    {
      "cell_type": "markdown",
      "id": "fed95ca1",
      "metadata": {
        "id": "fed95ca1"
      },
      "source": [
        "### Select only *Product* and *Consumer complaint narrative* Columns"
      ]
    },
    {
      "cell_type": "code",
      "execution_count": null,
      "id": "28c67ba7",
      "metadata": {
        "id": "28c67ba7"
      },
      "outputs": [],
      "source": [
        "data = data[[\"Product\", \"Consumer complaint narrative\"]]"
      ]
    },
    {
      "cell_type": "code",
      "execution_count": null,
      "id": "74d6a8c6",
      "metadata": {
        "id": "74d6a8c6",
        "outputId": "a137e4c3-81e2-42ff-a133-6ab7b06cea16"
      },
      "outputs": [
        {
          "data": {
            "text/html": [
              "<div>\n",
              "<style scoped>\n",
              "    .dataframe tbody tr th:only-of-type {\n",
              "        vertical-align: middle;\n",
              "    }\n",
              "\n",
              "    .dataframe tbody tr th {\n",
              "        vertical-align: top;\n",
              "    }\n",
              "\n",
              "    .dataframe thead th {\n",
              "        text-align: right;\n",
              "    }\n",
              "</style>\n",
              "<table border=\"1\" class=\"dataframe\">\n",
              "  <thead>\n",
              "    <tr style=\"text-align: right;\">\n",
              "      <th></th>\n",
              "      <th>Product</th>\n",
              "      <th>Consumer complaint narrative</th>\n",
              "    </tr>\n",
              "  </thead>\n",
              "  <tbody>\n",
              "    <tr>\n",
              "      <th>0</th>\n",
              "      <td>Credit reporting, credit repair services, or o...</td>\n",
              "      <td>NaN</td>\n",
              "    </tr>\n",
              "    <tr>\n",
              "      <th>1</th>\n",
              "      <td>Vehicle loan or lease</td>\n",
              "      <td>I contacted Ally on Friday XX/XX/XXXX after fa...</td>\n",
              "    </tr>\n",
              "    <tr>\n",
              "      <th>2</th>\n",
              "      <td>Credit reporting, credit repair services, or o...</td>\n",
              "      <td>NaN</td>\n",
              "    </tr>\n",
              "    <tr>\n",
              "      <th>3</th>\n",
              "      <td>Credit reporting, credit repair services, or o...</td>\n",
              "      <td>NaN</td>\n",
              "    </tr>\n",
              "    <tr>\n",
              "      <th>4</th>\n",
              "      <td>Debt collection</td>\n",
              "      <td>NaN</td>\n",
              "    </tr>\n",
              "  </tbody>\n",
              "</table>\n",
              "</div>"
            ],
            "text/plain": [
              "                                             Product  \\\n",
              "0  Credit reporting, credit repair services, or o...   \n",
              "1                              Vehicle loan or lease   \n",
              "2  Credit reporting, credit repair services, or o...   \n",
              "3  Credit reporting, credit repair services, or o...   \n",
              "4                                    Debt collection   \n",
              "\n",
              "                        Consumer complaint narrative  \n",
              "0                                                NaN  \n",
              "1  I contacted Ally on Friday XX/XX/XXXX after fa...  \n",
              "2                                                NaN  \n",
              "3                                                NaN  \n",
              "4                                                NaN  "
            ]
          },
          "execution_count": 19,
          "metadata": {},
          "output_type": "execute_result"
        }
      ],
      "source": [
        "data.head()"
      ]
    },
    {
      "cell_type": "code",
      "execution_count": null,
      "id": "7776d736",
      "metadata": {
        "id": "7776d736",
        "outputId": "d5bf1e4b-38cc-43e3-a351-038b55a410ad"
      },
      "outputs": [
        {
          "data": {
            "text/plain": [
              "Product                               0\n",
              "Consumer complaint narrative    1516903\n",
              "dtype: int64"
            ]
          },
          "execution_count": 21,
          "metadata": {},
          "output_type": "execute_result"
        }
      ],
      "source": [
        "data.isna().sum()"
      ]
    },
    {
      "cell_type": "markdown",
      "id": "335ddcf3",
      "metadata": {
        "id": "335ddcf3"
      },
      "source": [
        "### Drop Records with Missing Complaints"
      ]
    },
    {
      "cell_type": "code",
      "execution_count": null,
      "id": "b41c8e33",
      "metadata": {
        "id": "b41c8e33"
      },
      "outputs": [],
      "source": [
        "data.dropna(inplace=True)"
      ]
    },
    {
      "cell_type": "code",
      "execution_count": null,
      "id": "093a1f89",
      "metadata": {
        "id": "093a1f89",
        "outputId": "99cbbf05-6b04-4d9b-ffe1-18d0c93ddb97"
      },
      "outputs": [
        {
          "data": {
            "text/plain": [
              "(809343, 2)"
            ]
          },
          "execution_count": 25,
          "metadata": {},
          "output_type": "execute_result"
        }
      ],
      "source": [
        "data.shape"
      ]
    },
    {
      "cell_type": "code",
      "execution_count": null,
      "id": "759169cd",
      "metadata": {
        "id": "759169cd"
      },
      "outputs": [],
      "source": [
        "data.rename({\"Consumer complaint narrative\": \"Complaint\"},\n",
        "            axis=1, inplace=True)"
      ]
    },
    {
      "cell_type": "code",
      "execution_count": null,
      "id": "cb856432",
      "metadata": {
        "id": "cb856432",
        "outputId": "c52fcd77-9850-4529-8f2c-19d49c71050a"
      },
      "outputs": [
        {
          "data": {
            "text/html": [
              "<div>\n",
              "<style scoped>\n",
              "    .dataframe tbody tr th:only-of-type {\n",
              "        vertical-align: middle;\n",
              "    }\n",
              "\n",
              "    .dataframe tbody tr th {\n",
              "        vertical-align: top;\n",
              "    }\n",
              "\n",
              "    .dataframe thead th {\n",
              "        text-align: right;\n",
              "    }\n",
              "</style>\n",
              "<table border=\"1\" class=\"dataframe\">\n",
              "  <thead>\n",
              "    <tr style=\"text-align: right;\">\n",
              "      <th></th>\n",
              "      <th>Product</th>\n",
              "      <th>Complaint</th>\n",
              "    </tr>\n",
              "  </thead>\n",
              "  <tbody>\n",
              "    <tr>\n",
              "      <th>1</th>\n",
              "      <td>Vehicle loan or lease</td>\n",
              "      <td>I contacted Ally on Friday XX/XX/XXXX after fa...</td>\n",
              "    </tr>\n",
              "    <tr>\n",
              "      <th>7</th>\n",
              "      <td>Credit reporting, credit repair services, or o...</td>\n",
              "      <td>Hello This complaint is against the three cred...</td>\n",
              "    </tr>\n",
              "    <tr>\n",
              "      <th>8</th>\n",
              "      <td>Credit reporting, credit repair services, or o...</td>\n",
              "      <td>I am a victim of Identity Theft &amp; currently ha...</td>\n",
              "    </tr>\n",
              "    <tr>\n",
              "      <th>10</th>\n",
              "      <td>Credit reporting, credit repair services, or o...</td>\n",
              "      <td>Two accounts are still on my credit history af...</td>\n",
              "    </tr>\n",
              "    <tr>\n",
              "      <th>13</th>\n",
              "      <td>Credit reporting, credit repair services, or o...</td>\n",
              "      <td>Receiving daily telephone call ( s ) from XXXX...</td>\n",
              "    </tr>\n",
              "  </tbody>\n",
              "</table>\n",
              "</div>"
            ],
            "text/plain": [
              "                                              Product  \\\n",
              "1                               Vehicle loan or lease   \n",
              "7   Credit reporting, credit repair services, or o...   \n",
              "8   Credit reporting, credit repair services, or o...   \n",
              "10  Credit reporting, credit repair services, or o...   \n",
              "13  Credit reporting, credit repair services, or o...   \n",
              "\n",
              "                                            Complaint  \n",
              "1   I contacted Ally on Friday XX/XX/XXXX after fa...  \n",
              "7   Hello This complaint is against the three cred...  \n",
              "8   I am a victim of Identity Theft & currently ha...  \n",
              "10  Two accounts are still on my credit history af...  \n",
              "13  Receiving daily telephone call ( s ) from XXXX...  "
            ]
          },
          "execution_count": 29,
          "metadata": {},
          "output_type": "execute_result"
        }
      ],
      "source": [
        "data.head()"
      ]
    },
    {
      "cell_type": "code",
      "execution_count": null,
      "id": "28ae91c9",
      "metadata": {
        "id": "28ae91c9",
        "outputId": "80e3ed76-564e-4a9d-b976-f45be6e1f9cb"
      },
      "outputs": [
        {
          "data": {
            "text/plain": [
              "array(['Vehicle loan or lease',\n",
              "       'Credit reporting, credit repair services, or other personal consumer reports',\n",
              "       'Credit card or prepaid card',\n",
              "       'Money transfer, virtual currency, or money service', 'Mortgage',\n",
              "       'Payday loan, title loan, or personal loan', 'Debt collection',\n",
              "       'Checking or savings account', 'Student loan', 'Consumer Loan',\n",
              "       'Money transfers', 'Credit card', 'Bank account or service',\n",
              "       'Credit reporting', 'Prepaid card', 'Payday loan',\n",
              "       'Other financial service', 'Virtual currency'], dtype=object)"
            ]
          },
          "execution_count": 31,
          "metadata": {},
          "output_type": "execute_result"
        }
      ],
      "source": [
        "data[\"Product\"].unique()"
      ]
    },
    {
      "cell_type": "markdown",
      "id": "8651b7cf",
      "metadata": {
        "id": "8651b7cf"
      },
      "source": [
        "### Create Unique Values for *Product*"
      ]
    },
    {
      "cell_type": "code",
      "execution_count": null,
      "id": "1b3cf73e",
      "metadata": {
        "id": "1b3cf73e"
      },
      "outputs": [],
      "source": [
        "product_map = {'Vehicle loan or lease': 'vehicle_loan',\n",
        "              'Credit reporting, credit repair services, or other personal consumer reports':'credit_report',\n",
        "              'Credit card or prepaid card': 'card',\n",
        "              'Money transfer, virtual currency, or money service': 'money_transfer',\n",
        "              'virtual currency': 'money_transfer',\n",
        "              'Mortgage': 'mortgage',\n",
        "               'Payday loan, title loan, or personal loan': 'loan',\n",
        "               'Debt collection': 'debt_collection',\n",
        "               'Checking or savings account': 'savings_account',\n",
        "               'Credit card': 'card',\n",
        "               'Bank account or service': 'savings_account',\n",
        "               'Credit reporting': 'credit_report',\n",
        "               'Prepaid card': 'card',\n",
        "               'Payday loan': 'loan',\n",
        "               'Other financial service': 'others',\n",
        "               'Virtual currency': 'money_transfer',\n",
        "               'Student loan': 'loan',\n",
        "               'Consumer Loan': 'loan',\n",
        "               'Money transfers': 'money_transfer'\n",
        "              }"
      ]
    },
    {
      "cell_type": "code",
      "execution_count": null,
      "id": "5ef92393",
      "metadata": {
        "id": "5ef92393"
      },
      "outputs": [],
      "source": [
        "data.replace({\"Product\": product_map}, inplace=True)"
      ]
    },
    {
      "cell_type": "code",
      "execution_count": null,
      "id": "ac23540c",
      "metadata": {
        "id": "ac23540c",
        "outputId": "d0f0eced-48ee-4355-e5cf-0007d94ace33"
      },
      "outputs": [
        {
          "data": {
            "text/html": [
              "<div>\n",
              "<style scoped>\n",
              "    .dataframe tbody tr th:only-of-type {\n",
              "        vertical-align: middle;\n",
              "    }\n",
              "\n",
              "    .dataframe tbody tr th {\n",
              "        vertical-align: top;\n",
              "    }\n",
              "\n",
              "    .dataframe thead th {\n",
              "        text-align: right;\n",
              "    }\n",
              "</style>\n",
              "<table border=\"1\" class=\"dataframe\">\n",
              "  <thead>\n",
              "    <tr style=\"text-align: right;\">\n",
              "      <th></th>\n",
              "      <th>Product</th>\n",
              "      <th>Complaint</th>\n",
              "    </tr>\n",
              "  </thead>\n",
              "  <tbody>\n",
              "    <tr>\n",
              "      <th>1</th>\n",
              "      <td>vehicle_loan</td>\n",
              "      <td>I contacted Ally on Friday XX/XX/XXXX after fa...</td>\n",
              "    </tr>\n",
              "    <tr>\n",
              "      <th>7</th>\n",
              "      <td>credit_report</td>\n",
              "      <td>Hello This complaint is against the three cred...</td>\n",
              "    </tr>\n",
              "    <tr>\n",
              "      <th>8</th>\n",
              "      <td>credit_report</td>\n",
              "      <td>I am a victim of Identity Theft &amp; currently ha...</td>\n",
              "    </tr>\n",
              "    <tr>\n",
              "      <th>10</th>\n",
              "      <td>credit_report</td>\n",
              "      <td>Two accounts are still on my credit history af...</td>\n",
              "    </tr>\n",
              "    <tr>\n",
              "      <th>13</th>\n",
              "      <td>credit_report</td>\n",
              "      <td>Receiving daily telephone call ( s ) from XXXX...</td>\n",
              "    </tr>\n",
              "  </tbody>\n",
              "</table>\n",
              "</div>"
            ],
            "text/plain": [
              "          Product                                          Complaint\n",
              "1    vehicle_loan  I contacted Ally on Friday XX/XX/XXXX after fa...\n",
              "7   credit_report  Hello This complaint is against the three cred...\n",
              "8   credit_report  I am a victim of Identity Theft & currently ha...\n",
              "10  credit_report  Two accounts are still on my credit history af...\n",
              "13  credit_report  Receiving daily telephone call ( s ) from XXXX..."
            ]
          },
          "execution_count": 38,
          "metadata": {},
          "output_type": "execute_result"
        }
      ],
      "source": [
        "data.head()"
      ]
    },
    {
      "cell_type": "markdown",
      "id": "8e8a20e3",
      "metadata": {
        "id": "8e8a20e3"
      },
      "source": [
        "### Plot Distribution of *Product* Column"
      ]
    },
    {
      "cell_type": "code",
      "execution_count": null,
      "id": "7e13f4c3",
      "metadata": {
        "id": "7e13f4c3",
        "outputId": "c98f0fae-13a8-4f2f-d63f-dc6dab28fbcb"
      },
      "outputs": [
        {
          "data": {
            "image/png": "[encoded data removed]",
            "text/plain": [
              "<Figure size 640x480 with 1 Axes>"
            ]
          },
          "metadata": {},
          "output_type": "display_data"
        }
      ],
      "source": [
        "sns.countplot(x=\"Product\", data=data)\n",
        "plt.xticks(rotation=90)\n",
        "plt.show()"
      ]
    },
    {
      "cell_type": "code",
      "execution_count": null,
      "id": "a36977a5",
      "metadata": {
        "id": "a36977a5",
        "outputId": "450ee221-8d09-45b8-b194-c584b1614b8a"
      },
      "outputs": [
        {
          "data": {
            "text/plain": [
              "Product\n",
              "credit_report      348053\n",
              "debt_collection    157381\n",
              "mortgage            84461\n",
              "card                81042\n",
              "savings_account     52274\n",
              "loan                50710\n",
              "money_transfer      20096\n",
              "vehicle_loan        15034\n",
              "others                292\n",
              "Name: count, dtype: int64"
            ]
          },
          "execution_count": 43,
          "metadata": {},
          "output_type": "execute_result"
        }
      ],
      "source": [
        "data[\"Product\"].value_counts()"
      ]
    },
    {
      "cell_type": "code",
      "execution_count": null,
      "id": "d0721c3d",
      "metadata": {
        "id": "d0721c3d"
      },
      "outputs": [],
      "source": [
        "complaints = list(data[\"Complaint\"])"
      ]
    },
    {
      "cell_type": "code",
      "execution_count": null,
      "id": "dc85f66b",
      "metadata": {
        "id": "dc85f66b",
        "outputId": "0e84a52c-7855-4cdd-8106-ad81df4d815a"
      },
      "outputs": [
        {
          "data": {
            "text/plain": [
              "809343"
            ]
          },
          "execution_count": 47,
          "metadata": {},
          "output_type": "execute_result"
        }
      ],
      "source": [
        "len(complaints)"
      ]
    },
    {
      "cell_type": "markdown",
      "source": [
        "# **Text Preprocessing**"
      ],
      "metadata": {
        "id": "muLkkDOk7msM"
      },
      "id": "muLkkDOk7msM"
    },
    {
      "cell_type": "markdown",
      "id": "6211e473",
      "metadata": {
        "id": "6211e473"
      },
      "source": [
        "### Convert Data to Lower Case"
      ]
    },
    {
      "cell_type": "code",
      "execution_count": null,
      "id": "c1f77e46",
      "metadata": {
        "id": "c1f77e46",
        "outputId": "d82474b8-844e-4511-e429-0f66538a615d"
      },
      "outputs": [
        {
          "name": "stderr",
          "output_type": "stream",
          "text": [
            "100%|██████████| 809343/809343 [00:00<00:00, 1453704.88it/s]\n"
          ]
        }
      ],
      "source": [
        "complaints = [c.lower() for c in tqdm(complaints)]"
      ]
    },
    {
      "cell_type": "code",
      "execution_count": null,
      "id": "074e75dd",
      "metadata": {
        "id": "074e75dd",
        "outputId": "7c2d3e8c-95f3-495f-da05-4368b0c7f29b"
      },
      "outputs": [
        {
          "data": {
            "text/plain": [
              "'my credit reports list monies owed to xxxx. i have written to the collection agency, xxxx xxxx xxxx requesting proof that i owe monies on this account, but none was ever sent. i notified the credit agencies that this creditor never sent me the required proof, yet they continue to list this account on my credit report. \\n\\nmy credit reports list xxxx xxxx xxxx and xxxx for monies owed to xxxx. i submitted documentation that showed that the original creditor was paid however, the credit reporting agencies continue to list xxxx xxxx on my credit report. furthermore, two separate collection agencies can not be listed on my creditreport over the same account. \\n\\nmy credit reports list a bankruptcy that should have been deleted since the 7 years of reporting it has expired.'"
            ]
          },
          "execution_count": 52,
          "metadata": {},
          "output_type": "execute_result"
        }
      ],
      "source": [
        "complaints[13]"
      ]
    },
    {
      "cell_type": "code",
      "execution_count": null,
      "id": "917213d0",
      "metadata": {
        "id": "917213d0",
        "outputId": "560bb7fd-890d-4f97-e216-818e36d630b9"
      },
      "outputs": [
        {
          "data": {
            "text/plain": [
              "'xxxx xxxx  sent me a email that it looked like my personal data may had been compromised. i opened it up and reviewed everything and there was several unknown inquiries and accounts that certainly did not belong to me. i pulled my credit to make sure, and these accounts i am reporting are definitely not mine. please remove these items from my report. \\n\\nbankruptcy chapter xxxx-dismissed xxxx {$0.00}'"
            ]
          },
          "execution_count": 54,
          "metadata": {},
          "output_type": "execute_result"
        }
      ],
      "source": [
        "complaints[3401]"
      ]
    },
    {
      "cell_type": "markdown",
      "id": "608d00f4",
      "metadata": {
        "id": "608d00f4"
      },
      "source": [
        "### Tokenize the Text"
      ]
    },
    {
      "cell_type": "code",
      "execution_count": null,
      "id": "a498ce3f",
      "metadata": {
        "id": "a498ce3f",
        "outputId": "fc207942-a91e-4a24-cbc3-3fc7e55a7154"
      },
      "outputs": [
        {
          "name": "stderr",
          "output_type": "stream",
          "text": [
            "100%|██████████| 809343/809343 [05:07<00:00, 2633.82it/s]\n"
          ]
        }
      ],
      "source": [
        "tokens = [word_tokenize(c) for c in tqdm(complaints)]"
      ]
    },
    {
      "cell_type": "code",
      "execution_count": null,
      "id": "67bc7851-0df4-4797-bc82-5c0fe21039af",
      "metadata": {
        "id": "67bc7851-0df4-4797-bc82-5c0fe21039af",
        "outputId": "128a41f7-b51e-49e1-b6ba-f3169d4ceca4"
      },
      "outputs": [
        {
          "name": "stderr",
          "output_type": "stream",
          "text": [
            "[nltk_data] Downloading package stopwords to\n",
            "[nltk_data]     C:\\Users\\USER\\AppData\\Roaming\\nltk_data...\n",
            "[nltk_data]   Unzipping corpora\\stopwords.zip.\n"
          ]
        },
        {
          "data": {
            "text/plain": [
              "True"
            ]
          },
          "execution_count": 69,
          "metadata": {},
          "output_type": "execute_result"
        }
      ],
      "source": [
        "import nltk\n",
        "#nltk.download('punkt')\n",
        "nltk.download('stopwords')"
      ]
    },
    {
      "cell_type": "code",
      "execution_count": null,
      "id": "3fb95524",
      "metadata": {
        "id": "3fb95524",
        "outputId": "795f7b80-e05e-4788-a551-87e7d0460662"
      },
      "outputs": [
        {
          "data": {
            "text/plain": [
              "['my',\n",
              " 'credit',\n",
              " 'reports',\n",
              " 'list',\n",
              " 'monies',\n",
              " 'owed',\n",
              " 'to',\n",
              " 'xxxx',\n",
              " '.',\n",
              " 'i',\n",
              " 'have',\n",
              " 'written',\n",
              " 'to',\n",
              " 'the',\n",
              " 'collection',\n",
              " 'agency',\n",
              " ',',\n",
              " 'xxxx',\n",
              " 'xxxx',\n",
              " 'xxxx',\n",
              " 'requesting',\n",
              " 'proof',\n",
              " 'that',\n",
              " 'i',\n",
              " 'owe',\n",
              " 'monies',\n",
              " 'on',\n",
              " 'this',\n",
              " 'account',\n",
              " ',',\n",
              " 'but',\n",
              " 'none',\n",
              " 'was',\n",
              " 'ever',\n",
              " 'sent',\n",
              " '.',\n",
              " 'i',\n",
              " 'notified',\n",
              " 'the',\n",
              " 'credit',\n",
              " 'agencies',\n",
              " 'that',\n",
              " 'this',\n",
              " 'creditor',\n",
              " 'never',\n",
              " 'sent',\n",
              " 'me',\n",
              " 'the',\n",
              " 'required',\n",
              " 'proof',\n",
              " ',',\n",
              " 'yet',\n",
              " 'they',\n",
              " 'continue',\n",
              " 'to',\n",
              " 'list',\n",
              " 'this',\n",
              " 'account',\n",
              " 'on',\n",
              " 'my',\n",
              " 'credit',\n",
              " 'report',\n",
              " '.',\n",
              " 'my',\n",
              " 'credit',\n",
              " 'reports',\n",
              " 'list',\n",
              " 'xxxx',\n",
              " 'xxxx',\n",
              " 'xxxx',\n",
              " 'and',\n",
              " 'xxxx',\n",
              " 'for',\n",
              " 'monies',\n",
              " 'owed',\n",
              " 'to',\n",
              " 'xxxx',\n",
              " '.',\n",
              " 'i',\n",
              " 'submitted',\n",
              " 'documentation',\n",
              " 'that',\n",
              " 'showed',\n",
              " 'that',\n",
              " 'the',\n",
              " 'original',\n",
              " 'creditor',\n",
              " 'was',\n",
              " 'paid',\n",
              " 'however',\n",
              " ',',\n",
              " 'the',\n",
              " 'credit',\n",
              " 'reporting',\n",
              " 'agencies',\n",
              " 'continue',\n",
              " 'to',\n",
              " 'list',\n",
              " 'xxxx',\n",
              " 'xxxx',\n",
              " 'on',\n",
              " 'my',\n",
              " 'credit',\n",
              " 'report',\n",
              " '.',\n",
              " 'furthermore',\n",
              " ',',\n",
              " 'two',\n",
              " 'separate',\n",
              " 'collection',\n",
              " 'agencies',\n",
              " 'can',\n",
              " 'not',\n",
              " 'be',\n",
              " 'listed',\n",
              " 'on',\n",
              " 'my',\n",
              " 'creditreport',\n",
              " 'over',\n",
              " 'the',\n",
              " 'same',\n",
              " 'account',\n",
              " '.',\n",
              " 'my',\n",
              " 'credit',\n",
              " 'reports',\n",
              " 'list',\n",
              " 'a',\n",
              " 'bankruptcy',\n",
              " 'that',\n",
              " 'should',\n",
              " 'have',\n",
              " 'been',\n",
              " 'deleted',\n",
              " 'since',\n",
              " 'the',\n",
              " '7',\n",
              " 'years',\n",
              " 'of',\n",
              " 'reporting',\n",
              " 'it',\n",
              " 'has',\n",
              " 'expired',\n",
              " '.']"
            ]
          },
          "execution_count": 63,
          "metadata": {},
          "output_type": "execute_result"
        }
      ],
      "source": [
        "tokens[13]"
      ]
    },
    {
      "cell_type": "code",
      "execution_count": null,
      "id": "85e40fcd",
      "metadata": {
        "id": "85e40fcd",
        "outputId": "de991620-f691-4d0c-9a36-184b489852a2"
      },
      "outputs": [
        {
          "data": {
            "text/plain": [
              "['xxxx',\n",
              " 'xxxx',\n",
              " 'sent',\n",
              " 'me',\n",
              " 'a',\n",
              " 'email',\n",
              " 'that',\n",
              " 'it',\n",
              " 'looked',\n",
              " 'like',\n",
              " 'my',\n",
              " 'personal',\n",
              " 'data',\n",
              " 'may',\n",
              " 'had',\n",
              " 'been',\n",
              " 'compromised',\n",
              " '.',\n",
              " 'i',\n",
              " 'opened',\n",
              " 'it',\n",
              " 'up',\n",
              " 'and',\n",
              " 'reviewed',\n",
              " 'everything',\n",
              " 'and',\n",
              " 'there',\n",
              " 'was',\n",
              " 'several',\n",
              " 'unknown',\n",
              " 'inquiries',\n",
              " 'and',\n",
              " 'accounts',\n",
              " 'that',\n",
              " 'certainly',\n",
              " 'did',\n",
              " 'not',\n",
              " 'belong',\n",
              " 'to',\n",
              " 'me',\n",
              " '.',\n",
              " 'i',\n",
              " 'pulled',\n",
              " 'my',\n",
              " 'credit',\n",
              " 'to',\n",
              " 'make',\n",
              " 'sure',\n",
              " ',',\n",
              " 'and',\n",
              " 'these',\n",
              " 'accounts',\n",
              " 'i',\n",
              " 'am',\n",
              " 'reporting',\n",
              " 'are',\n",
              " 'definitely',\n",
              " 'not',\n",
              " 'mine',\n",
              " '.',\n",
              " 'please',\n",
              " 'remove',\n",
              " 'these',\n",
              " 'items',\n",
              " 'from',\n",
              " 'my',\n",
              " 'report',\n",
              " '.',\n",
              " 'bankruptcy',\n",
              " 'chapter',\n",
              " 'xxxx-dismissed',\n",
              " 'xxxx',\n",
              " '{',\n",
              " '$',\n",
              " '0.00',\n",
              " '}']"
            ]
          },
          "execution_count": 65,
          "metadata": {},
          "output_type": "execute_result"
        }
      ],
      "source": [
        "tokens[3401]"
      ]
    },
    {
      "cell_type": "markdown",
      "id": "116d4811",
      "metadata": {
        "id": "116d4811"
      },
      "source": [
        "### Remove Stop Words"
      ]
    },
    {
      "cell_type": "code",
      "execution_count": null,
      "id": "8c32daad",
      "metadata": {
        "id": "8c32daad"
      },
      "outputs": [],
      "source": [
        "sw = stopwords.words(\"english\")"
      ]
    },
    {
      "cell_type": "code",
      "execution_count": null,
      "id": "a5758bd3",
      "metadata": {
        "id": "a5758bd3",
        "outputId": "958c5a25-02eb-4482-cf1f-26a03f0937d7"
      },
      "outputs": [
        {
          "data": {
            "text/plain": [
              "['a', 'about', 'above', 'after', 'again', 'against', 'ain', 'all', 'am', 'an']"
            ]
          },
          "execution_count": 73,
          "metadata": {},
          "output_type": "execute_result"
        }
      ],
      "source": [
        "sw[:10]"
      ]
    },
    {
      "cell_type": "code",
      "execution_count": null,
      "id": "739409eb",
      "metadata": {
        "id": "739409eb",
        "outputId": "a6238e4a-a914-4db8-8a70-1142424fa40b"
      },
      "outputs": [
        {
          "name": "stderr",
          "output_type": "stream",
          "text": [
            "100%|██████████| 809343/809343 [02:33<00:00, 5285.46it/s]\n"
          ]
        }
      ],
      "source": [
        "tokens = [[word for word in t if word not in sw] for t in tqdm(tokens)]"
      ]
    },
    {
      "cell_type": "markdown",
      "id": "fc284da4",
      "metadata": {
        "id": "fc284da4"
      },
      "source": [
        "### Remove Punctuation Marks"
      ]
    },
    {
      "cell_type": "code",
      "execution_count": null,
      "id": "b82ee710",
      "metadata": {
        "id": "b82ee710"
      },
      "outputs": [],
      "source": [
        "tokenizer = RegexpTokenizer(r'\\w+')"
      ]
    },
    {
      "cell_type": "code",
      "execution_count": null,
      "id": "69de2b85",
      "metadata": {
        "id": "69de2b85",
        "outputId": "06f1da85-07f6-4c84-caa9-ca6f154723f7"
      },
      "outputs": [
        {
          "name": "stderr",
          "output_type": "stream",
          "text": [
            "100%|██████████| 809343/809343 [00:48<00:00, 16614.66it/s]\n"
          ]
        }
      ],
      "source": [
        "tokens = [[\"\".join(tokenizer.tokenize(word)) for word in t\n",
        "          if len(tokenizer.tokenize(word)) > 0] for t in tqdm(tokens)]"
      ]
    },
    {
      "cell_type": "code",
      "execution_count": null,
      "id": "3d2565dc",
      "metadata": {
        "id": "3d2565dc",
        "outputId": "7d8e0852-4e86-4c9c-82c5-d9a9a42c4da7"
      },
      "outputs": [
        {
          "data": {
            "text/plain": [
              "['credit',\n",
              " 'reports',\n",
              " 'list',\n",
              " 'monies',\n",
              " 'owed',\n",
              " 'xxxx',\n",
              " 'written',\n",
              " 'collection',\n",
              " 'agency',\n",
              " 'xxxx',\n",
              " 'xxxx',\n",
              " 'xxxx',\n",
              " 'requesting',\n",
              " 'proof',\n",
              " 'owe',\n",
              " 'monies',\n",
              " 'account',\n",
              " 'none',\n",
              " 'ever',\n",
              " 'sent',\n",
              " 'notified',\n",
              " 'credit',\n",
              " 'agencies',\n",
              " 'creditor',\n",
              " 'never',\n",
              " 'sent',\n",
              " 'required',\n",
              " 'proof',\n",
              " 'yet',\n",
              " 'continue',\n",
              " 'list',\n",
              " 'account',\n",
              " 'credit',\n",
              " 'report',\n",
              " 'credit',\n",
              " 'reports',\n",
              " 'list',\n",
              " 'xxxx',\n",
              " 'xxxx',\n",
              " 'xxxx',\n",
              " 'xxxx',\n",
              " 'monies',\n",
              " 'owed',\n",
              " 'xxxx',\n",
              " 'submitted',\n",
              " 'documentation',\n",
              " 'showed',\n",
              " 'original',\n",
              " 'creditor',\n",
              " 'paid',\n",
              " 'however',\n",
              " 'credit',\n",
              " 'reporting',\n",
              " 'agencies',\n",
              " 'continue',\n",
              " 'list',\n",
              " 'xxxx',\n",
              " 'xxxx',\n",
              " 'credit',\n",
              " 'report',\n",
              " 'furthermore',\n",
              " 'two',\n",
              " 'separate',\n",
              " 'collection',\n",
              " 'agencies',\n",
              " 'listed',\n",
              " 'creditreport',\n",
              " 'account',\n",
              " 'credit',\n",
              " 'reports',\n",
              " 'list',\n",
              " 'bankruptcy',\n",
              " 'deleted',\n",
              " 'since',\n",
              " '7',\n",
              " 'years',\n",
              " 'reporting',\n",
              " 'expired']"
            ]
          },
          "execution_count": 82,
          "metadata": {},
          "output_type": "execute_result"
        }
      ],
      "source": [
        "tokens[13]"
      ]
    },
    {
      "cell_type": "code",
      "execution_count": null,
      "id": "372547fd",
      "metadata": {
        "id": "372547fd",
        "outputId": "4237f4cf-60ca-4215-ab61-f0fc7dc75334"
      },
      "outputs": [
        {
          "data": {
            "text/plain": [
              "['xxxx',\n",
              " 'xxxx',\n",
              " 'sent',\n",
              " 'email',\n",
              " 'looked',\n",
              " 'like',\n",
              " 'personal',\n",
              " 'data',\n",
              " 'may',\n",
              " 'compromised',\n",
              " 'opened',\n",
              " 'reviewed',\n",
              " 'everything',\n",
              " 'several',\n",
              " 'unknown',\n",
              " 'inquiries',\n",
              " 'accounts',\n",
              " 'certainly',\n",
              " 'belong',\n",
              " 'pulled',\n",
              " 'credit',\n",
              " 'make',\n",
              " 'sure',\n",
              " 'accounts',\n",
              " 'reporting',\n",
              " 'definitely',\n",
              " 'mine',\n",
              " 'please',\n",
              " 'remove',\n",
              " 'items',\n",
              " 'report',\n",
              " 'bankruptcy',\n",
              " 'chapter',\n",
              " 'xxxxdismissed',\n",
              " 'xxxx',\n",
              " '000']"
            ]
          },
          "execution_count": 84,
          "metadata": {},
          "output_type": "execute_result"
        }
      ],
      "source": [
        "tokens[3401]"
      ]
    },
    {
      "cell_type": "markdown",
      "id": "9da0b760",
      "metadata": {
        "id": "9da0b760"
      },
      "source": [
        "### Remove 'xxxx' and '000' Tokens"
      ]
    },
    {
      "cell_type": "code",
      "execution_count": null,
      "id": "82055e13",
      "metadata": {
        "id": "82055e13",
        "outputId": "6448872c-1200-4472-a9e6-e5438fba7f56"
      },
      "outputs": [
        {
          "name": "stderr",
          "output_type": "stream",
          "text": [
            "100%|██████████| 809343/809343 [00:07<00:00, 101487.03it/s]\n"
          ]
        }
      ],
      "source": [
        "tokens = [[t for t in token if t not in ['xxxx','000']] for token in tqdm(tokens)]"
      ]
    },
    {
      "cell_type": "code",
      "execution_count": null,
      "id": "4164a45d",
      "metadata": {
        "id": "4164a45d",
        "outputId": "44adaf9a-be63-4cec-aa1b-55d839986dd9"
      },
      "outputs": [
        {
          "data": {
            "text/plain": [
              "['credit',\n",
              " 'reports',\n",
              " 'list',\n",
              " 'monies',\n",
              " 'owed',\n",
              " 'written',\n",
              " 'collection',\n",
              " 'agency',\n",
              " 'requesting',\n",
              " 'proof',\n",
              " 'owe',\n",
              " 'monies',\n",
              " 'account',\n",
              " 'none',\n",
              " 'ever',\n",
              " 'sent',\n",
              " 'notified',\n",
              " 'credit',\n",
              " 'agencies',\n",
              " 'creditor',\n",
              " 'never',\n",
              " 'sent',\n",
              " 'required',\n",
              " 'proof',\n",
              " 'yet',\n",
              " 'continue',\n",
              " 'list',\n",
              " 'account',\n",
              " 'credit',\n",
              " 'report',\n",
              " 'credit',\n",
              " 'reports',\n",
              " 'list',\n",
              " 'monies',\n",
              " 'owed',\n",
              " 'submitted',\n",
              " 'documentation',\n",
              " 'showed',\n",
              " 'original',\n",
              " 'creditor',\n",
              " 'paid',\n",
              " 'however',\n",
              " 'credit',\n",
              " 'reporting',\n",
              " 'agencies',\n",
              " 'continue',\n",
              " 'list',\n",
              " 'credit',\n",
              " 'report',\n",
              " 'furthermore',\n",
              " 'two',\n",
              " 'separate',\n",
              " 'collection',\n",
              " 'agencies',\n",
              " 'listed',\n",
              " 'creditreport',\n",
              " 'account',\n",
              " 'credit',\n",
              " 'reports',\n",
              " 'list',\n",
              " 'bankruptcy',\n",
              " 'deleted',\n",
              " 'since',\n",
              " '7',\n",
              " 'years',\n",
              " 'reporting',\n",
              " 'expired']"
            ]
          },
          "execution_count": 88,
          "metadata": {},
          "output_type": "execute_result"
        }
      ],
      "source": [
        "tokens[13]"
      ]
    },
    {
      "cell_type": "code",
      "execution_count": null,
      "id": "0cc2e50c",
      "metadata": {
        "scrolled": true,
        "id": "0cc2e50c",
        "outputId": "8b3c0ce6-d733-43b2-ac05-a2f68881e2f7"
      },
      "outputs": [
        {
          "data": {
            "text/plain": [
              "['sent',\n",
              " 'email',\n",
              " 'looked',\n",
              " 'like',\n",
              " 'personal',\n",
              " 'data',\n",
              " 'may',\n",
              " 'compromised',\n",
              " 'opened',\n",
              " 'reviewed',\n",
              " 'everything',\n",
              " 'several',\n",
              " 'unknown',\n",
              " 'inquiries',\n",
              " 'accounts',\n",
              " 'certainly',\n",
              " 'belong',\n",
              " 'pulled',\n",
              " 'credit',\n",
              " 'make',\n",
              " 'sure',\n",
              " 'accounts',\n",
              " 'reporting',\n",
              " 'definitely',\n",
              " 'mine',\n",
              " 'please',\n",
              " 'remove',\n",
              " 'items',\n",
              " 'report',\n",
              " 'bankruptcy',\n",
              " 'chapter',\n",
              " 'xxxxdismissed']"
            ]
          },
          "execution_count": 90,
          "metadata": {},
          "output_type": "execute_result"
        }
      ],
      "source": [
        "tokens[3401]"
      ]
    },
    {
      "cell_type": "markdown",
      "id": "4d3de69f",
      "metadata": {
        "id": "4d3de69f"
      },
      "source": [
        "### Check Word Count for Couple of Classes"
      ]
    },
    {
      "cell_type": "code",
      "execution_count": null,
      "id": "925f68f4",
      "metadata": {
        "id": "925f68f4"
      },
      "outputs": [],
      "source": [
        "data[\"clean_complaints\"] = tokens"
      ]
    },
    {
      "cell_type": "code",
      "execution_count": null,
      "id": "7021d757",
      "metadata": {
        "id": "7021d757",
        "outputId": "d4538c0a-7c21-42d3-a538-3a481aa7b5ce"
      },
      "outputs": [
        {
          "data": {
            "text/html": [
              "<div>\n",
              "<style scoped>\n",
              "    .dataframe tbody tr th:only-of-type {\n",
              "        vertical-align: middle;\n",
              "    }\n",
              "\n",
              "    .dataframe tbody tr th {\n",
              "        vertical-align: top;\n",
              "    }\n",
              "\n",
              "    .dataframe thead th {\n",
              "        text-align: right;\n",
              "    }\n",
              "</style>\n",
              "<table border=\"1\" class=\"dataframe\">\n",
              "  <thead>\n",
              "    <tr style=\"text-align: right;\">\n",
              "      <th></th>\n",
              "      <th>Product</th>\n",
              "      <th>Complaint</th>\n",
              "      <th>clean_complaints</th>\n",
              "    </tr>\n",
              "  </thead>\n",
              "  <tbody>\n",
              "    <tr>\n",
              "      <th>1</th>\n",
              "      <td>vehicle_loan</td>\n",
              "      <td>I contacted Ally on Friday XX/XX/XXXX after fa...</td>\n",
              "      <td>[contacted, ally, friday, xxxxxxxx, falling, b...</td>\n",
              "    </tr>\n",
              "    <tr>\n",
              "      <th>7</th>\n",
              "      <td>credit_report</td>\n",
              "      <td>Hello This complaint is against the three cred...</td>\n",
              "      <td>[hello, complaint, three, credit, reporting, c...</td>\n",
              "    </tr>\n",
              "    <tr>\n",
              "      <th>8</th>\n",
              "      <td>credit_report</td>\n",
              "      <td>I am a victim of Identity Theft &amp; currently ha...</td>\n",
              "      <td>[victim, identity, theft, currently, experian,...</td>\n",
              "    </tr>\n",
              "    <tr>\n",
              "      <th>10</th>\n",
              "      <td>credit_report</td>\n",
              "      <td>Two accounts are still on my credit history af...</td>\n",
              "      <td>[two, accounts, still, credit, history, contac...</td>\n",
              "    </tr>\n",
              "    <tr>\n",
              "      <th>13</th>\n",
              "      <td>credit_report</td>\n",
              "      <td>Receiving daily telephone call ( s ) from XXXX...</td>\n",
              "      <td>[receiving, daily, telephone, call, identifyin...</td>\n",
              "    </tr>\n",
              "  </tbody>\n",
              "</table>\n",
              "</div>"
            ],
            "text/plain": [
              "          Product                                          Complaint  \\\n",
              "1    vehicle_loan  I contacted Ally on Friday XX/XX/XXXX after fa...   \n",
              "7   credit_report  Hello This complaint is against the three cred...   \n",
              "8   credit_report  I am a victim of Identity Theft & currently ha...   \n",
              "10  credit_report  Two accounts are still on my credit history af...   \n",
              "13  credit_report  Receiving daily telephone call ( s ) from XXXX...   \n",
              "\n",
              "                                     clean_complaints  \n",
              "1   [contacted, ally, friday, xxxxxxxx, falling, b...  \n",
              "7   [hello, complaint, three, credit, reporting, c...  \n",
              "8   [victim, identity, theft, currently, experian,...  \n",
              "10  [two, accounts, still, credit, history, contac...  \n",
              "13  [receiving, daily, telephone, call, identifyin...  "
            ]
          },
          "execution_count": 94,
          "metadata": {},
          "output_type": "execute_result"
        }
      ],
      "source": [
        "data.head()"
      ]
    },
    {
      "cell_type": "code",
      "execution_count": null,
      "id": "d830521b",
      "metadata": {
        "id": "d830521b"
      },
      "outputs": [],
      "source": [
        "loan_complaints = list(data[data[\"Product\"]==\"loan\"][\"clean_complaints\"])"
      ]
    },
    {
      "cell_type": "code",
      "execution_count": null,
      "id": "765a73fc",
      "metadata": {
        "id": "765a73fc",
        "outputId": "362cfd2b-0251-4481-fc14-f9f5bce73a7c"
      },
      "outputs": [
        {
          "name": "stderr",
          "output_type": "stream",
          "text": [
            "100%|██████████| 50710/50710 [00:00<00:00, 305483.01it/s]\n"
          ]
        }
      ],
      "source": [
        "loan_complaints = [token for complaint in tqdm(loan_complaints) for token in complaint]"
      ]
    },
    {
      "cell_type": "markdown",
      "source": [
        "# **Exploratory Token Analysis**"
      ],
      "metadata": {
        "id": "e3FN6M4f8RuN"
      },
      "id": "e3FN6M4f8RuN"
    },
    {
      "cell_type": "code",
      "execution_count": null,
      "id": "1425469d",
      "metadata": {
        "id": "1425469d"
      },
      "outputs": [],
      "source": [
        "counter = Counter(loan_complaints)"
      ]
    },
    {
      "cell_type": "code",
      "execution_count": null,
      "id": "4b0a49a7",
      "metadata": {
        "id": "4b0a49a7",
        "outputId": "40507809-ea25-4985-b842-0a8e76b794fc"
      },
      "outputs": [
        {
          "data": {
            "text/plain": [
              "[('loan', 108721),\n",
              " ('payment', 69612),\n",
              " ('xxxxxxxx', 54859),\n",
              " ('payments', 54658),\n",
              " ('would', 51778),\n",
              " ('loans', 49381),\n",
              " ('account', 44823),\n",
              " ('credit', 40709),\n",
              " ('told', 38378),\n",
              " ('pay', 36730)]"
            ]
          },
          "execution_count": 102,
          "metadata": {},
          "output_type": "execute_result"
        }
      ],
      "source": [
        "counter.most_common(10)"
      ]
    },
    {
      "cell_type": "code",
      "execution_count": null,
      "id": "349667fd",
      "metadata": {
        "id": "349667fd"
      },
      "outputs": [],
      "source": [
        "card_complaints = list(data[data[\"Product\"]==\"card\"][\"clean_complaints\"])"
      ]
    },
    {
      "cell_type": "code",
      "execution_count": null,
      "id": "67e1227b",
      "metadata": {
        "id": "67e1227b",
        "outputId": "602560a8-4592-4a63-8acf-58e87754c2d9"
      },
      "outputs": [
        {
          "name": "stderr",
          "output_type": "stream",
          "text": [
            "100%|██████████| 81042/81042 [00:00<00:00, 304246.72it/s]\n"
          ]
        }
      ],
      "source": [
        "card_complaints = [token for complaint in tqdm(card_complaints)\n",
        "                  for token in complaint]"
      ]
    },
    {
      "cell_type": "code",
      "execution_count": null,
      "id": "1ff6f0a5",
      "metadata": {
        "id": "1ff6f0a5"
      },
      "outputs": [],
      "source": [
        "counter = Counter(card_complaints)"
      ]
    },
    {
      "cell_type": "code",
      "execution_count": null,
      "id": "eff84021",
      "metadata": {
        "id": "eff84021",
        "outputId": "52f65523-fb1e-4b16-8a0f-53ef98199b52"
      },
      "outputs": [
        {
          "data": {
            "text/plain": [
              "[('card', 188911),\n",
              " ('credit', 180949),\n",
              " ('account', 143171),\n",
              " ('xxxxxxxx', 95253),\n",
              " ('would', 74332),\n",
              " ('bank', 68126),\n",
              " ('payment', 68015),\n",
              " ('told', 57508),\n",
              " ('called', 53979),\n",
              " ('one', 53750)]"
            ]
          },
          "execution_count": 110,
          "metadata": {},
          "output_type": "execute_result"
        }
      ],
      "source": [
        "counter.most_common(10)"
      ]
    },
    {
      "cell_type": "code",
      "execution_count": null,
      "id": "b746f816",
      "metadata": {
        "id": "b746f816",
        "outputId": "6dc1fb6c-9038-4e30-9259-3799f1ce1001"
      },
      "outputs": [
        {
          "name": "stderr",
          "output_type": "stream",
          "text": [
            "100%|██████████| 809343/809343 [00:01<00:00, 468258.04it/s]\n"
          ]
        }
      ],
      "source": [
        "counter = Counter([t for complaint in tqdm(tokens) for t in complaint])"
      ]
    },
    {
      "cell_type": "code",
      "execution_count": null,
      "id": "ad2d9ebd",
      "metadata": {
        "id": "ad2d9ebd",
        "outputId": "a9b81a01-f29f-4435-e9c0-9d99f606fbee"
      },
      "outputs": [
        {
          "data": {
            "text/plain": [
              "[('credit', 1371264),\n",
              " ('account', 1098988),\n",
              " ('xxxxxxxx', 889650),\n",
              " ('report', 632326),\n",
              " ('information', 584507),\n",
              " ('would', 478585),\n",
              " ('payment', 472922),\n",
              " ('loan', 425411),\n",
              " ('debt', 413992),\n",
              " ('bank', 379931)]"
            ]
          },
          "execution_count": 113,
          "metadata": {},
          "output_type": "execute_result"
        }
      ],
      "source": [
        "counter.most_common(10)"
      ]
    },
    {
      "cell_type": "code",
      "execution_count": null,
      "id": "1ed74d45",
      "metadata": {
        "id": "1ed74d45",
        "outputId": "4028bd13-e953-42ad-cc4f-0a557d8c5324"
      },
      "outputs": [
        {
          "data": {
            "text/plain": [
              "243338"
            ]
          },
          "execution_count": 116,
          "metadata": {},
          "output_type": "execute_result"
        }
      ],
      "source": [
        "len(counter.keys())"
      ]
    },
    {
      "cell_type": "code",
      "execution_count": null,
      "id": "a4ab1ac6",
      "metadata": {
        "id": "a4ab1ac6",
        "outputId": "4bfd11d7-7174-486d-d346-9dc8fad29fac"
      },
      "outputs": [
        {
          "name": "stderr",
          "output_type": "stream",
          "text": [
            "100%|██████████| 809343/809343 [00:01<00:00, 624139.75it/s]\n"
          ]
        }
      ],
      "source": [
        "clean_complaints = [\" \".join(complaint) for complaint in tqdm(tokens)]"
      ]
    },
    {
      "cell_type": "code",
      "execution_count": null,
      "id": "2de5ff72",
      "metadata": {
        "id": "2de5ff72",
        "outputId": "55364272-f979-478e-d9d0-e26a73332fb3"
      },
      "outputs": [
        {
          "data": {
            "text/plain": [
              "'credit reports list monies owed written collection agency requesting proof owe monies account none ever sent notified credit agencies creditor never sent required proof yet continue list account credit report credit reports list monies owed submitted documentation showed original creditor paid however credit reporting agencies continue list credit report furthermore two separate collection agencies listed creditreport account credit reports list bankruptcy deleted since 7 years reporting expired'"
            ]
          },
          "execution_count": 120,
          "metadata": {},
          "output_type": "execute_result"
        }
      ],
      "source": [
        "clean_complaints[13]"
      ]
    },
    {
      "cell_type": "code",
      "execution_count": null,
      "id": "9eb4bf72",
      "metadata": {
        "id": "9eb4bf72",
        "outputId": "e3aee8ae-01da-45d7-99a4-2989cfb21042"
      },
      "outputs": [
        {
          "data": {
            "text/plain": [
              "'sent email looked like personal data may compromised opened reviewed everything several unknown inquiries accounts certainly belong pulled credit make sure accounts reporting definitely mine please remove items report bankruptcy chapter xxxxdismissed'"
            ]
          },
          "execution_count": 122,
          "metadata": {},
          "output_type": "execute_result"
        }
      ],
      "source": [
        "clean_complaints[3401]"
      ]
    },
    {
      "cell_type": "markdown",
      "id": "34de844a",
      "metadata": {
        "id": "34de844a"
      },
      "source": [
        "# **Feature Engineering & Data Preparation**"
      ]
    },
    {
      "cell_type": "markdown",
      "id": "622b50e6",
      "metadata": {
        "id": "622b50e6"
      },
      "source": [
        "### Vectorize the Data"
      ]
    },
    {
      "cell_type": "code",
      "execution_count": null,
      "id": "2611d3fd",
      "metadata": {
        "id": "2611d3fd"
      },
      "outputs": [],
      "source": [
        "vect = CountVectorizer(min_df=200)"
      ]
    },
    {
      "cell_type": "code",
      "execution_count": null,
      "id": "6e91f39f",
      "metadata": {
        "id": "6e91f39f"
      },
      "outputs": [],
      "source": [
        "X = vect.fit_transform(clean_complaints)"
      ]
    },
    {
      "cell_type": "code",
      "execution_count": null,
      "id": "2d63c0e4",
      "metadata": {
        "id": "2d63c0e4",
        "outputId": "77559092-17b9-4805-f4f4-568b10d61bb0"
      },
      "outputs": [
        {
          "data": {
            "text/plain": [
              "(809343, 8547)"
            ]
          },
          "execution_count": 128,
          "metadata": {},
          "output_type": "execute_result"
        }
      ],
      "source": [
        "X.shape"
      ]
    },
    {
      "cell_type": "code",
      "execution_count": null,
      "id": "613bdde8",
      "metadata": {
        "id": "613bdde8"
      },
      "outputs": [],
      "source": [
        "y = data[\"Product\"]"
      ]
    },
    {
      "cell_type": "markdown",
      "id": "3ccc5d2a",
      "metadata": {
        "id": "3ccc5d2a"
      },
      "source": [
        "### Split the Data into Train and Test"
      ]
    },
    {
      "cell_type": "code",
      "execution_count": null,
      "id": "ce861b46",
      "metadata": {
        "id": "ce861b46"
      },
      "outputs": [],
      "source": [
        "X_train, X_test, y_train, y_test = train_test_split(X, y, test_size=0.2,\n",
        "                                                   stratify=y,\n",
        "                                                   random_state=42)"
      ]
    },
    {
      "cell_type": "code",
      "execution_count": null,
      "id": "5c67a689",
      "metadata": {
        "id": "5c67a689",
        "outputId": "7b271d03-e906-4821-9a47-13d7b0b712dc"
      },
      "outputs": [
        {
          "name": "stdout",
          "output_type": "stream",
          "text": [
            "(647474, 8547) (647474,) (161869, 8547) (161869,)\n"
          ]
        }
      ],
      "source": [
        "print(X_train.shape, y_train.shape, X_test.shape, y_test.shape)"
      ]
    },
    {
      "cell_type": "markdown",
      "id": "61e57ac0",
      "metadata": {
        "id": "61e57ac0"
      },
      "source": [
        "# **Model Training & Evaluation**"
      ]
    },
    {
      "cell_type": "markdown",
      "id": "7ba1263a",
      "metadata": {
        "id": "7ba1263a"
      },
      "source": [
        "### Multinomial Naive Bayes' Model Creation"
      ]
    },
    {
      "cell_type": "code",
      "execution_count": null,
      "id": "2ba39b76",
      "metadata": {
        "id": "2ba39b76"
      },
      "outputs": [],
      "source": [
        "model = MultinomialNB()"
      ]
    },
    {
      "cell_type": "code",
      "execution_count": null,
      "id": "8cced669",
      "metadata": {
        "id": "8cced669",
        "outputId": "593cfbc8-1521-419c-9e39-c766922c8624"
      },
      "outputs": [
        {
          "data": {
            "text/html": [
              "<style>#sk-container-id-1 {\n",
              "  /* Definition of color scheme common for light and dark mode */\n",
              "  --sklearn-color-text: black;\n",
              "  --sklearn-color-line: gray;\n",
              "  /* Definition of color scheme for unfitted estimators */\n",
              "  --sklearn-color-unfitted-level-0: #fff5e6;\n",
              "  --sklearn-color-unfitted-level-1: #f6e4d2;\n",
              "  --sklearn-color-unfitted-level-2: #ffe0b3;\n",
              "  --sklearn-color-unfitted-level-3: chocolate;\n",
              "  /* Definition of color scheme for fitted estimators */\n",
              "  --sklearn-color-fitted-level-0: #f0f8ff;\n",
              "  --sklearn-color-fitted-level-1: #d4ebff;\n",
              "  --sklearn-color-fitted-level-2: #b3dbfd;\n",
              "  --sklearn-color-fitted-level-3: cornflowerblue;\n",
              "\n",
              "  /* Specific color for light theme */\n",
              "  --sklearn-color-text-on-default-background: var(--sg-text-color, var(--theme-code-foreground, var(--jp-content-font-color1, black)));\n",
              "  --sklearn-color-background: var(--sg-background-color, var(--theme-background, var(--jp-layout-color0, white)));\n",
              "  --sklearn-color-border-box: var(--sg-text-color, var(--theme-code-foreground, var(--jp-content-font-color1, black)));\n",
              "  --sklearn-color-icon: #696969;\n",
              "\n",
              "  @media (prefers-color-scheme: dark) {\n",
              "    /* Redefinition of color scheme for dark theme */\n",
              "    --sklearn-color-text-on-default-background: var(--sg-text-color, var(--theme-code-foreground, var(--jp-content-font-color1, white)));\n",
              "    --sklearn-color-background: var(--sg-background-color, var(--theme-background, var(--jp-layout-color0, #111)));\n",
              "    --sklearn-color-border-box: var(--sg-text-color, var(--theme-code-foreground, var(--jp-content-font-color1, white)));\n",
              "    --sklearn-color-icon: #878787;\n",
              "  }\n",
              "}\n",
              "\n",
              "#sk-container-id-1 {\n",
              "  color: var(--sklearn-color-text);\n",
              "}\n",
              "\n",
              "#sk-container-id-1 pre {\n",
              "  padding: 0;\n",
              "}\n",
              "\n",
              "#sk-container-id-1 input.sk-hidden--visually {\n",
              "  border: 0;\n",
              "  clip: rect(1px 1px 1px 1px);\n",
              "  clip: rect(1px, 1px, 1px, 1px);\n",
              "  height: 1px;\n",
              "  margin: -1px;\n",
              "  overflow: hidden;\n",
              "  padding: 0;\n",
              "  position: absolute;\n",
              "  width: 1px;\n",
              "}\n",
              "\n",
              "#sk-container-id-1 div.sk-dashed-wrapped {\n",
              "  border: 1px dashed var(--sklearn-color-line);\n",
              "  margin: 0 0.4em 0.5em 0.4em;\n",
              "  box-sizing: border-box;\n",
              "  padding-bottom: 0.4em;\n",
              "  background-color: var(--sklearn-color-background);\n",
              "}\n",
              "\n",
              "#sk-container-id-1 div.sk-container {\n",
              "  /* jupyter's `normalize.less` sets `[hidden] { display: none; }`\n",
              "     but bootstrap.min.css set `[hidden] { display: none !important; }`\n",
              "     so we also need the `!important` here to be able to override the\n",
              "     default hidden behavior on the sphinx rendered scikit-learn.org.\n",
              "     See: https://github.com/scikit-learn/scikit-learn/issues/21755 */\n",
              "  display: inline-block !important;\n",
              "  position: relative;\n",
              "}\n",
              "\n",
              "#sk-container-id-1 div.sk-text-repr-fallback {\n",
              "  display: none;\n",
              "}\n",
              "\n",
              "div.sk-parallel-item,\n",
              "div.sk-serial,\n",
              "div.sk-item {\n",
              "  /* draw centered vertical line to link estimators */\n",
              "  background-image: linear-gradient(var(--sklearn-color-text-on-default-background), var(--sklearn-color-text-on-default-background));\n",
              "  background-size: 2px 100%;\n",
              "  background-repeat: no-repeat;\n",
              "  background-position: center center;\n",
              "}\n",
              "\n",
              "/* Parallel-specific style estimator block */\n",
              "\n",
              "#sk-container-id-1 div.sk-parallel-item::after {\n",
              "  content: \"\";\n",
              "  width: 100%;\n",
              "  border-bottom: 2px solid var(--sklearn-color-text-on-default-background);\n",
              "  flex-grow: 1;\n",
              "}\n",
              "\n",
              "#sk-container-id-1 div.sk-parallel {\n",
              "  display: flex;\n",
              "  align-items: stretch;\n",
              "  justify-content: center;\n",
              "  background-color: var(--sklearn-color-background);\n",
              "  position: relative;\n",
              "}\n",
              "\n",
              "#sk-container-id-1 div.sk-parallel-item {\n",
              "  display: flex;\n",
              "  flex-direction: column;\n",
              "}\n",
              "\n",
              "#sk-container-id-1 div.sk-parallel-item:first-child::after {\n",
              "  align-self: flex-end;\n",
              "  width: 50%;\n",
              "}\n",
              "\n",
              "#sk-container-id-1 div.sk-parallel-item:last-child::after {\n",
              "  align-self: flex-start;\n",
              "  width: 50%;\n",
              "}\n",
              "\n",
              "#sk-container-id-1 div.sk-parallel-item:only-child::after {\n",
              "  width: 0;\n",
              "}\n",
              "\n",
              "/* Serial-specific style estimator block */\n",
              "\n",
              "#sk-container-id-1 div.sk-serial {\n",
              "  display: flex;\n",
              "  flex-direction: column;\n",
              "  align-items: center;\n",
              "  background-color: var(--sklearn-color-background);\n",
              "  padding-right: 1em;\n",
              "  padding-left: 1em;\n",
              "}\n",
              "\n",
              "\n",
              "/* Toggleable style: style used for estimator/Pipeline/ColumnTransformer box that is\n",
              "clickable and can be expanded/collapsed.\n",
              "- Pipeline and ColumnTransformer use this feature and define the default style\n",
              "- Estimators will overwrite some part of the style using the `sk-estimator` class\n",
              "*/\n",
              "\n",
              "/* Pipeline and ColumnTransformer style (default) */\n",
              "\n",
              "#sk-container-id-1 div.sk-toggleable {\n",
              "  /* Default theme specific background. It is overwritten whether we have a\n",
              "  specific estimator or a Pipeline/ColumnTransformer */\n",
              "  background-color: var(--sklearn-color-background);\n",
              "}\n",
              "\n",
              "/* Toggleable label */\n",
              "#sk-container-id-1 label.sk-toggleable__label {\n",
              "  cursor: pointer;\n",
              "  display: block;\n",
              "  width: 100%;\n",
              "  margin-bottom: 0;\n",
              "  padding: 0.5em;\n",
              "  box-sizing: border-box;\n",
              "  text-align: center;\n",
              "}\n",
              "\n",
              "#sk-container-id-1 label.sk-toggleable__label-arrow:before {\n",
              "  /* Arrow on the left of the label */\n",
              "  content: \"▸\";\n",
              "  float: left;\n",
              "  margin-right: 0.25em;\n",
              "  color: var(--sklearn-color-icon);\n",
              "}\n",
              "\n",
              "#sk-container-id-1 label.sk-toggleable__label-arrow:hover:before {\n",
              "  color: var(--sklearn-color-text);\n",
              "}\n",
              "\n",
              "/* Toggleable content - dropdown */\n",
              "\n",
              "#sk-container-id-1 div.sk-toggleable__content {\n",
              "  max-height: 0;\n",
              "  max-width: 0;\n",
              "  overflow: hidden;\n",
              "  text-align: left;\n",
              "  /* unfitted */\n",
              "  background-color: var(--sklearn-color-unfitted-level-0);\n",
              "}\n",
              "\n",
              "#sk-container-id-1 div.sk-toggleable__content.fitted {\n",
              "  /* fitted */\n",
              "  background-color: var(--sklearn-color-fitted-level-0);\n",
              "}\n",
              "\n",
              "#sk-container-id-1 div.sk-toggleable__content pre {\n",
              "  margin: 0.2em;\n",
              "  border-radius: 0.25em;\n",
              "  color: var(--sklearn-color-text);\n",
              "  /* unfitted */\n",
              "  background-color: var(--sklearn-color-unfitted-level-0);\n",
              "}\n",
              "\n",
              "#sk-container-id-1 div.sk-toggleable__content.fitted pre {\n",
              "  /* unfitted */\n",
              "  background-color: var(--sklearn-color-fitted-level-0);\n",
              "}\n",
              "\n",
              "#sk-container-id-1 input.sk-toggleable__control:checked~div.sk-toggleable__content {\n",
              "  /* Expand drop-down */\n",
              "  max-height: 200px;\n",
              "  max-width: 100%;\n",
              "  overflow: auto;\n",
              "}\n",
              "\n",
              "#sk-container-id-1 input.sk-toggleable__control:checked~label.sk-toggleable__label-arrow:before {\n",
              "  content: \"▾\";\n",
              "}\n",
              "\n",
              "/* Pipeline/ColumnTransformer-specific style */\n",
              "\n",
              "#sk-container-id-1 div.sk-label input.sk-toggleable__control:checked~label.sk-toggleable__label {\n",
              "  color: var(--sklearn-color-text);\n",
              "  background-color: var(--sklearn-color-unfitted-level-2);\n",
              "}\n",
              "\n",
              "#sk-container-id-1 div.sk-label.fitted input.sk-toggleable__control:checked~label.sk-toggleable__label {\n",
              "  background-color: var(--sklearn-color-fitted-level-2);\n",
              "}\n",
              "\n",
              "/* Estimator-specific style */\n",
              "\n",
              "/* Colorize estimator box */\n",
              "#sk-container-id-1 div.sk-estimator input.sk-toggleable__control:checked~label.sk-toggleable__label {\n",
              "  /* unfitted */\n",
              "  background-color: var(--sklearn-color-unfitted-level-2);\n",
              "}\n",
              "\n",
              "#sk-container-id-1 div.sk-estimator.fitted input.sk-toggleable__control:checked~label.sk-toggleable__label {\n",
              "  /* fitted */\n",
              "  background-color: var(--sklearn-color-fitted-level-2);\n",
              "}\n",
              "\n",
              "#sk-container-id-1 div.sk-label label.sk-toggleable__label,\n",
              "#sk-container-id-1 div.sk-label label {\n",
              "  /* The background is the default theme color */\n",
              "  color: var(--sklearn-color-text-on-default-background);\n",
              "}\n",
              "\n",
              "/* On hover, darken the color of the background */\n",
              "#sk-container-id-1 div.sk-label:hover label.sk-toggleable__label {\n",
              "  color: var(--sklearn-color-text);\n",
              "  background-color: var(--sklearn-color-unfitted-level-2);\n",
              "}\n",
              "\n",
              "/* Label box, darken color on hover, fitted */\n",
              "#sk-container-id-1 div.sk-label.fitted:hover label.sk-toggleable__label.fitted {\n",
              "  color: var(--sklearn-color-text);\n",
              "  background-color: var(--sklearn-color-fitted-level-2);\n",
              "}\n",
              "\n",
              "/* Estimator label */\n",
              "\n",
              "#sk-container-id-1 div.sk-label label {\n",
              "  font-family: monospace;\n",
              "  font-weight: bold;\n",
              "  display: inline-block;\n",
              "  line-height: 1.2em;\n",
              "}\n",
              "\n",
              "#sk-container-id-1 div.sk-label-container {\n",
              "  text-align: center;\n",
              "}\n",
              "\n",
              "/* Estimator-specific */\n",
              "#sk-container-id-1 div.sk-estimator {\n",
              "  font-family: monospace;\n",
              "  border: 1px dotted var(--sklearn-color-border-box);\n",
              "  border-radius: 0.25em;\n",
              "  box-sizing: border-box;\n",
              "  margin-bottom: 0.5em;\n",
              "  /* unfitted */\n",
              "  background-color: var(--sklearn-color-unfitted-level-0);\n",
              "}\n",
              "\n",
              "#sk-container-id-1 div.sk-estimator.fitted {\n",
              "  /* fitted */\n",
              "  background-color: var(--sklearn-color-fitted-level-0);\n",
              "}\n",
              "\n",
              "/* on hover */\n",
              "#sk-container-id-1 div.sk-estimator:hover {\n",
              "  /* unfitted */\n",
              "  background-color: var(--sklearn-color-unfitted-level-2);\n",
              "}\n",
              "\n",
              "#sk-container-id-1 div.sk-estimator.fitted:hover {\n",
              "  /* fitted */\n",
              "  background-color: var(--sklearn-color-fitted-level-2);\n",
              "}\n",
              "\n",
              "/* Specification for estimator info (e.g. \"i\" and \"?\") */\n",
              "\n",
              "/* Common style for \"i\" and \"?\" */\n",
              "\n",
              ".sk-estimator-doc-link,\n",
              "a:link.sk-estimator-doc-link,\n",
              "a:visited.sk-estimator-doc-link {\n",
              "  float: right;\n",
              "  font-size: smaller;\n",
              "  line-height: 1em;\n",
              "  font-family: monospace;\n",
              "  background-color: var(--sklearn-color-background);\n",
              "  border-radius: 1em;\n",
              "  height: 1em;\n",
              "  width: 1em;\n",
              "  text-decoration: none !important;\n",
              "  margin-left: 1ex;\n",
              "  /* unfitted */\n",
              "  border: var(--sklearn-color-unfitted-level-1) 1pt solid;\n",
              "  color: var(--sklearn-color-unfitted-level-1);\n",
              "}\n",
              "\n",
              ".sk-estimator-doc-link.fitted,\n",
              "a:link.sk-estimator-doc-link.fitted,\n",
              "a:visited.sk-estimator-doc-link.fitted {\n",
              "  /* fitted */\n",
              "  border: var(--sklearn-color-fitted-level-1) 1pt solid;\n",
              "  color: var(--sklearn-color-fitted-level-1);\n",
              "}\n",
              "\n",
              "/* On hover */\n",
              "div.sk-estimator:hover .sk-estimator-doc-link:hover,\n",
              ".sk-estimator-doc-link:hover,\n",
              "div.sk-label-container:hover .sk-estimator-doc-link:hover,\n",
              ".sk-estimator-doc-link:hover {\n",
              "  /* unfitted */\n",
              "  background-color: var(--sklearn-color-unfitted-level-3);\n",
              "  color: var(--sklearn-color-background);\n",
              "  text-decoration: none;\n",
              "}\n",
              "\n",
              "div.sk-estimator.fitted:hover .sk-estimator-doc-link.fitted:hover,\n",
              ".sk-estimator-doc-link.fitted:hover,\n",
              "div.sk-label-container:hover .sk-estimator-doc-link.fitted:hover,\n",
              ".sk-estimator-doc-link.fitted:hover {\n",
              "  /* fitted */\n",
              "  background-color: var(--sklearn-color-fitted-level-3);\n",
              "  color: var(--sklearn-color-background);\n",
              "  text-decoration: none;\n",
              "}\n",
              "\n",
              "/* Span, style for the box shown on hovering the info icon */\n",
              ".sk-estimator-doc-link span {\n",
              "  display: none;\n",
              "  z-index: 9999;\n",
              "  position: relative;\n",
              "  font-weight: normal;\n",
              "  right: .2ex;\n",
              "  padding: .5ex;\n",
              "  margin: .5ex;\n",
              "  width: min-content;\n",
              "  min-width: 20ex;\n",
              "  max-width: 50ex;\n",
              "  color: var(--sklearn-color-text);\n",
              "  box-shadow: 2pt 2pt 4pt #999;\n",
              "  /* unfitted */\n",
              "  background: var(--sklearn-color-unfitted-level-0);\n",
              "  border: .5pt solid var(--sklearn-color-unfitted-level-3);\n",
              "}\n",
              "\n",
              ".sk-estimator-doc-link.fitted span {\n",
              "  /* fitted */\n",
              "  background: var(--sklearn-color-fitted-level-0);\n",
              "  border: var(--sklearn-color-fitted-level-3);\n",
              "}\n",
              "\n",
              ".sk-estimator-doc-link:hover span {\n",
              "  display: block;\n",
              "}\n",
              "\n",
              "/* \"?\"-specific style due to the `<a>` HTML tag */\n",
              "\n",
              "#sk-container-id-1 a.estimator_doc_link {\n",
              "  float: right;\n",
              "  font-size: 1rem;\n",
              "  line-height: 1em;\n",
              "  font-family: monospace;\n",
              "  background-color: var(--sklearn-color-background);\n",
              "  border-radius: 1rem;\n",
              "  height: 1rem;\n",
              "  width: 1rem;\n",
              "  text-decoration: none;\n",
              "  /* unfitted */\n",
              "  color: var(--sklearn-color-unfitted-level-1);\n",
              "  border: var(--sklearn-color-unfitted-level-1) 1pt solid;\n",
              "}\n",
              "\n",
              "#sk-container-id-1 a.estimator_doc_link.fitted {\n",
              "  /* fitted */\n",
              "  border: var(--sklearn-color-fitted-level-1) 1pt solid;\n",
              "  color: var(--sklearn-color-fitted-level-1);\n",
              "}\n",
              "\n",
              "/* On hover */\n",
              "#sk-container-id-1 a.estimator_doc_link:hover {\n",
              "  /* unfitted */\n",
              "  background-color: var(--sklearn-color-unfitted-level-3);\n",
              "  color: var(--sklearn-color-background);\n",
              "  text-decoration: none;\n",
              "}\n",
              "\n",
              "#sk-container-id-1 a.estimator_doc_link.fitted:hover {\n",
              "  /* fitted */\n",
              "  background-color: var(--sklearn-color-fitted-level-3);\n",
              "}\n",
              "</style><div id=\"sk-container-id-1\" class=\"sk-top-container\"><div class=\"sk-text-repr-fallback\"><pre>MultinomialNB()</pre><b>In a Jupyter environment, please rerun this cell to show the HTML representation or trust the notebook. <br />On GitHub, the HTML representation is unable to render, please try loading this page with nbviewer.org.</b></div><div class=\"sk-container\" hidden><div class=\"sk-item\"><div class=\"sk-estimator fitted sk-toggleable\"><input class=\"sk-toggleable__control sk-hidden--visually\" id=\"sk-estimator-id-1\" type=\"checkbox\" checked><label for=\"sk-estimator-id-1\" class=\"sk-toggleable__label fitted sk-toggleable__label-arrow fitted\">&nbsp;&nbsp;MultinomialNB<a class=\"sk-estimator-doc-link fitted\" rel=\"noreferrer\" target=\"_blank\" href=\"https://scikit-learn.org/1.4/modules/generated/sklearn.naive_bayes.MultinomialNB.html\">?<span>Documentation for MultinomialNB</span></a><span class=\"sk-estimator-doc-link fitted\">i<span>Fitted</span></span></label><div class=\"sk-toggleable__content fitted\"><pre>MultinomialNB()</pre></div> </div></div></div></div>"
            ],
            "text/plain": [
              "MultinomialNB()"
            ]
          },
          "execution_count": 141,
          "metadata": {},
          "output_type": "execute_result"
        }
      ],
      "source": [
        "model.fit(X_train, y_train)"
      ]
    },
    {
      "cell_type": "markdown",
      "id": "34e71c9f",
      "metadata": {
        "id": "34e71c9f"
      },
      "source": [
        "### Predict on Test Set"
      ]
    },
    {
      "cell_type": "code",
      "execution_count": null,
      "id": "27519d90",
      "metadata": {
        "id": "27519d90"
      },
      "outputs": [],
      "source": [
        "test_pred = model.predict(X_test)"
      ]
    },
    {
      "cell_type": "code",
      "execution_count": null,
      "id": "2f17c163",
      "metadata": {
        "id": "2f17c163",
        "outputId": "ad8ab9d8-d0ff-4089-caa7-211b30393857"
      },
      "outputs": [
        {
          "data": {
            "text/plain": [
              "0.787371269359791"
            ]
          },
          "execution_count": 146,
          "metadata": {},
          "output_type": "execute_result"
        }
      ],
      "source": [
        "accuracy_score(y_test, test_pred)"
      ]
    },
    {
      "cell_type": "markdown",
      "id": "182087c2",
      "metadata": {
        "id": "182087c2"
      },
      "source": [
        "### Visualize Confusion Matrix"
      ]
    },
    {
      "cell_type": "code",
      "execution_count": null,
      "id": "8aee58a8",
      "metadata": {
        "id": "8aee58a8"
      },
      "outputs": [],
      "source": [
        "conf_mat = confusion_matrix(y_test, test_pred)"
      ]
    },
    {
      "cell_type": "code",
      "execution_count": null,
      "id": "19a334d4",
      "metadata": {
        "id": "19a334d4",
        "outputId": "e7b99a56-673f-4077-bf9f-9fe237bc0bee"
      },
      "outputs": [
        {
          "data": {
            "text/plain": [
              "array([[12285,  1137,   422,   358,   522,    63,    16,  1254,   152],\n",
              "       [ 3126, 56518,  4646,  1578,   240,  1071,    61,   410,  1961],\n",
              "       [ 1091,  4539, 22698,  1481,   131,   555,    30,   332,   619],\n",
              "       [  296,   519,   633,  6966,    91,   246,    17,   229,  1145],\n",
              "       [  154,    18,    29,    27,  3207,    36,    25,   516,     7],\n",
              "       [  164,   354,   198,   364,    65, 15383,    16,   235,   113],\n",
              "       [    3,     0,     4,    19,     4,     4,     7,    17,     0],\n",
              "       [  777,   182,    93,    73,   877,   159,    18,  8217,    59],\n",
              "       [   70,   261,   115,   295,     4,    41,     3,    48,  2170]],\n",
              "      dtype=int64)"
            ]
          },
          "execution_count": 150,
          "metadata": {},
          "output_type": "execute_result"
        }
      ],
      "source": [
        "conf_mat"
      ]
    },
    {
      "cell_type": "code",
      "execution_count": null,
      "id": "795398da",
      "metadata": {
        "id": "795398da"
      },
      "outputs": [],
      "source": [
        "conf_mat = pd.DataFrame(conf_mat, columns=model.classes_,\n",
        "                       index=model.classes_)"
      ]
    },
    {
      "cell_type": "code",
      "execution_count": null,
      "id": "07390433",
      "metadata": {
        "id": "07390433",
        "outputId": "ce0e9fcd-4aff-4336-9023-74f82f265ba5"
      },
      "outputs": [
        {
          "data": {
            "text/html": [
              "<div>\n",
              "<style scoped>\n",
              "    .dataframe tbody tr th:only-of-type {\n",
              "        vertical-align: middle;\n",
              "    }\n",
              "\n",
              "    .dataframe tbody tr th {\n",
              "        vertical-align: top;\n",
              "    }\n",
              "\n",
              "    .dataframe thead th {\n",
              "        text-align: right;\n",
              "    }\n",
              "</style>\n",
              "<table border=\"1\" class=\"dataframe\">\n",
              "  <thead>\n",
              "    <tr style=\"text-align: right;\">\n",
              "      <th></th>\n",
              "      <th>card</th>\n",
              "      <th>credit_report</th>\n",
              "      <th>debt_collection</th>\n",
              "      <th>loan</th>\n",
              "      <th>money_transfer</th>\n",
              "      <th>mortgage</th>\n",
              "      <th>others</th>\n",
              "      <th>savings_account</th>\n",
              "      <th>vehicle_loan</th>\n",
              "    </tr>\n",
              "  </thead>\n",
              "  <tbody>\n",
              "    <tr>\n",
              "      <th>card</th>\n",
              "      <td>12285</td>\n",
              "      <td>1137</td>\n",
              "      <td>422</td>\n",
              "      <td>358</td>\n",
              "      <td>522</td>\n",
              "      <td>63</td>\n",
              "      <td>16</td>\n",
              "      <td>1254</td>\n",
              "      <td>152</td>\n",
              "    </tr>\n",
              "    <tr>\n",
              "      <th>credit_report</th>\n",
              "      <td>3126</td>\n",
              "      <td>56518</td>\n",
              "      <td>4646</td>\n",
              "      <td>1578</td>\n",
              "      <td>240</td>\n",
              "      <td>1071</td>\n",
              "      <td>61</td>\n",
              "      <td>410</td>\n",
              "      <td>1961</td>\n",
              "    </tr>\n",
              "    <tr>\n",
              "      <th>debt_collection</th>\n",
              "      <td>1091</td>\n",
              "      <td>4539</td>\n",
              "      <td>22698</td>\n",
              "      <td>1481</td>\n",
              "      <td>131</td>\n",
              "      <td>555</td>\n",
              "      <td>30</td>\n",
              "      <td>332</td>\n",
              "      <td>619</td>\n",
              "    </tr>\n",
              "    <tr>\n",
              "      <th>loan</th>\n",
              "      <td>296</td>\n",
              "      <td>519</td>\n",
              "      <td>633</td>\n",
              "      <td>6966</td>\n",
              "      <td>91</td>\n",
              "      <td>246</td>\n",
              "      <td>17</td>\n",
              "      <td>229</td>\n",
              "      <td>1145</td>\n",
              "    </tr>\n",
              "    <tr>\n",
              "      <th>money_transfer</th>\n",
              "      <td>154</td>\n",
              "      <td>18</td>\n",
              "      <td>29</td>\n",
              "      <td>27</td>\n",
              "      <td>3207</td>\n",
              "      <td>36</td>\n",
              "      <td>25</td>\n",
              "      <td>516</td>\n",
              "      <td>7</td>\n",
              "    </tr>\n",
              "    <tr>\n",
              "      <th>mortgage</th>\n",
              "      <td>164</td>\n",
              "      <td>354</td>\n",
              "      <td>198</td>\n",
              "      <td>364</td>\n",
              "      <td>65</td>\n",
              "      <td>15383</td>\n",
              "      <td>16</td>\n",
              "      <td>235</td>\n",
              "      <td>113</td>\n",
              "    </tr>\n",
              "    <tr>\n",
              "      <th>others</th>\n",
              "      <td>3</td>\n",
              "      <td>0</td>\n",
              "      <td>4</td>\n",
              "      <td>19</td>\n",
              "      <td>4</td>\n",
              "      <td>4</td>\n",
              "      <td>7</td>\n",
              "      <td>17</td>\n",
              "      <td>0</td>\n",
              "    </tr>\n",
              "    <tr>\n",
              "      <th>savings_account</th>\n",
              "      <td>777</td>\n",
              "      <td>182</td>\n",
              "      <td>93</td>\n",
              "      <td>73</td>\n",
              "      <td>877</td>\n",
              "      <td>159</td>\n",
              "      <td>18</td>\n",
              "      <td>8217</td>\n",
              "      <td>59</td>\n",
              "    </tr>\n",
              "    <tr>\n",
              "      <th>vehicle_loan</th>\n",
              "      <td>70</td>\n",
              "      <td>261</td>\n",
              "      <td>115</td>\n",
              "      <td>295</td>\n",
              "      <td>4</td>\n",
              "      <td>41</td>\n",
              "      <td>3</td>\n",
              "      <td>48</td>\n",
              "      <td>2170</td>\n",
              "    </tr>\n",
              "  </tbody>\n",
              "</table>\n",
              "</div>"
            ],
            "text/plain": [
              "                  card  credit_report  debt_collection  loan  money_transfer  \\\n",
              "card             12285           1137              422   358             522   \n",
              "credit_report     3126          56518             4646  1578             240   \n",
              "debt_collection   1091           4539            22698  1481             131   \n",
              "loan               296            519              633  6966              91   \n",
              "money_transfer     154             18               29    27            3207   \n",
              "mortgage           164            354              198   364              65   \n",
              "others               3              0                4    19               4   \n",
              "savings_account    777            182               93    73             877   \n",
              "vehicle_loan        70            261              115   295               4   \n",
              "\n",
              "                 mortgage  others  savings_account  vehicle_loan  \n",
              "card                   63      16             1254           152  \n",
              "credit_report        1071      61              410          1961  \n",
              "debt_collection       555      30              332           619  \n",
              "loan                  246      17              229          1145  \n",
              "money_transfer         36      25              516             7  \n",
              "mortgage            15383      16              235           113  \n",
              "others                  4       7               17             0  \n",
              "savings_account       159      18             8217            59  \n",
              "vehicle_loan           41       3               48          2170  "
            ]
          },
          "execution_count": 154,
          "metadata": {},
          "output_type": "execute_result"
        }
      ],
      "source": [
        "conf_mat"
      ]
    },
    {
      "cell_type": "code",
      "execution_count": null,
      "id": "b5871c63",
      "metadata": {
        "id": "b5871c63",
        "outputId": "0bc77711-942d-4b2d-d4b3-34be056c766f"
      },
      "outputs": [
        {
          "data": {
            "image/png": "[encoded data removed]",
            "text/plain": [
              "<Figure size 640x480 with 2 Axes>"
            ]
          },
          "metadata": {},
          "output_type": "display_data"
        }
      ],
      "source": [
        "sns.heatmap(conf_mat)\n",
        "plt.show()"
      ]
    },
    {
      "cell_type": "markdown",
      "source": [
        "# **Model Persistence**"
      ],
      "metadata": {
        "id": "z4oUWVas86hK"
      },
      "id": "z4oUWVas86hK"
    },
    {
      "cell_type": "markdown",
      "id": "f0664a25",
      "metadata": {
        "id": "f0664a25"
      },
      "source": [
        "### Save Vectorizer and Trained Model"
      ]
    },
    {
      "cell_type": "code",
      "execution_count": null,
      "id": "e0ff5a18",
      "metadata": {
        "id": "e0ff5a18"
      },
      "outputs": [],
      "source": [
        "with open(\"Output/count_vect.pkl\", \"wb\") as f:\n",
        "    pickle.dump(vect, f)\n",
        "with open(\"Output/nb.pkl\", \"wb\") as f:\n",
        "    pickle.dump(model, f)"
      ]
    },
    {
      "cell_type": "markdown",
      "source": [
        "# **Inference on New Samples**"
      ],
      "metadata": {
        "id": "aaHJIRXy9PP_"
      },
      "id": "aaHJIRXy9PP_"
    },
    {
      "cell_type": "markdown",
      "id": "d3caf556",
      "metadata": {
        "id": "d3caf556"
      },
      "source": [
        "## Prediction"
      ]
    },
    {
      "cell_type": "code",
      "execution_count": null,
      "id": "b12693a4",
      "metadata": {
        "id": "b12693a4",
        "outputId": "9ea12161-67fe-4448-9516-cf15e0b534b3"
      },
      "outputs": [
        {
          "data": {
            "text/plain": [
              "'I have a debt of Bank of America which was written off by the bank XX/XX/XXXX without my knowledge. I went to the bank XXXX XXXX since a law group kept on delving on XXXX XXXX Clerk File and garnishing salary from my work.This case has been closed.I paid a lesser amount to the bank to close this debt XXXX I sent them checks. I will greatly appreciate if this case will be resolve.'"
            ]
          },
          "execution_count": 168,
          "metadata": {},
          "output_type": "execute_result"
        }
      ],
      "source": [
        "data[\"Complaint\"][1545]"
      ]
    },
    {
      "cell_type": "code",
      "execution_count": null,
      "id": "a2c06f08",
      "metadata": {
        "id": "a2c06f08",
        "outputId": "5461fab6-32b5-4f41-99ca-b327c5ef78d1"
      },
      "outputs": [
        {
          "data": {
            "text/plain": [
              "'debt_collection'"
            ]
          },
          "execution_count": 170,
          "metadata": {},
          "output_type": "execute_result"
        }
      ],
      "source": [
        "data[\"Product\"][1545]"
      ]
    },
    {
      "cell_type": "code",
      "execution_count": null,
      "id": "2441daf8",
      "metadata": {
        "id": "2441daf8",
        "outputId": "e8678c43-d3a9-4311-db07-54c5b66e7944"
      },
      "outputs": [
        {
          "data": {
            "text/plain": [
              "'This is a personal Delta American Express charge card. I am a 30 year customer with American Express. I suddenly, without notice or warning have noted that \" Charging Privileges Have Been Suspended \\'\\'. The card is current, with no money owed. This notice is only available online and I never received ANY written advice of this action. My account is not \" paperless \\'\\'. At the phone number provided to call for information, after nearly an hour on the phone THREE TIMES, no explanation was ever provided and I was advised I \" would be contacted \\'\\' to explain the ( lack of ) issue. I was never contacted. I had accumulated miles points on the card that I can not access and my charge privileges have been suspended. I am unable to obtain any information.'"
            ]
          },
          "execution_count": 172,
          "metadata": {},
          "output_type": "execute_result"
        }
      ],
      "source": [
        "data[\"Complaint\"][5001]"
      ]
    },
    {
      "cell_type": "code",
      "execution_count": null,
      "id": "1f813006",
      "metadata": {
        "id": "1f813006",
        "outputId": "989189bf-3356-4d1b-ec63-2735823eb7ba"
      },
      "outputs": [
        {
          "data": {
            "text/plain": [
              "'card'"
            ]
          },
          "execution_count": 174,
          "metadata": {},
          "output_type": "execute_result"
        }
      ],
      "source": [
        "data[\"Product\"][5001]"
      ]
    },
    {
      "cell_type": "code",
      "execution_count": null,
      "id": "c6572c01",
      "metadata": {
        "id": "c6572c01"
      },
      "outputs": [],
      "source": [
        "test_complaint_1 = data[\"Complaint\"][1545]\n",
        "test_complaint_2 = data[\"Complaint\"][5001]"
      ]
    },
    {
      "cell_type": "code",
      "execution_count": null,
      "id": "e2888493",
      "metadata": {
        "id": "e2888493"
      },
      "outputs": [],
      "source": [
        "test_complaint = [test_complaint_1, test_complaint_2]"
      ]
    },
    {
      "cell_type": "markdown",
      "id": "ce3a2d38",
      "metadata": {
        "id": "ce3a2d38"
      },
      "source": [
        "### Load the Vectorizer and Model Objects"
      ]
    },
    {
      "cell_type": "code",
      "execution_count": null,
      "id": "b95a5dc8",
      "metadata": {
        "id": "b95a5dc8"
      },
      "outputs": [],
      "source": [
        "vect = pickle.load(open(\"Output/count_vect.pkl\", \"rb\"))\n",
        "model = pickle.load(open(\"Output/nb.pkl\", \"rb\"))"
      ]
    },
    {
      "cell_type": "markdown",
      "id": "e4d27994",
      "metadata": {
        "id": "e4d27994"
      },
      "source": [
        "### Process Test Data"
      ]
    },
    {
      "cell_type": "code",
      "execution_count": null,
      "id": "303543e2",
      "metadata": {
        "id": "303543e2"
      },
      "outputs": [],
      "source": [
        "test_complaint = [r.lower() for r in test_complaint]"
      ]
    },
    {
      "cell_type": "code",
      "execution_count": null,
      "id": "f00847b5",
      "metadata": {
        "id": "f00847b5",
        "outputId": "a686731f-503f-4193-f7bc-8f825315aa31"
      },
      "outputs": [
        {
          "data": {
            "text/plain": [
              "['i have a debt of bank of america which was written off by the bank xx/xx/xxxx without my knowledge. i went to the bank xxxx xxxx since a law group kept on delving on xxxx xxxx clerk file and garnishing salary from my work.this case has been closed.i paid a lesser amount to the bank to close this debt xxxx i sent them checks. i will greatly appreciate if this case will be resolve.',\n",
              " 'this is a personal delta american express charge card. i am a 30 year customer with american express. i suddenly, without notice or warning have noted that \" charging privileges have been suspended \\'\\'. the card is current, with no money owed. this notice is only available online and i never received any written advice of this action. my account is not \" paperless \\'\\'. at the phone number provided to call for information, after nearly an hour on the phone three times, no explanation was ever provided and i was advised i \" would be contacted \\'\\' to explain the ( lack of ) issue. i was never contacted. i had accumulated miles points on the card that i can not access and my charge privileges have been suspended. i am unable to obtain any information.']"
            ]
          },
          "execution_count": 186,
          "metadata": {},
          "output_type": "execute_result"
        }
      ],
      "source": [
        "test_complaint"
      ]
    },
    {
      "cell_type": "code",
      "execution_count": null,
      "id": "d98eb410",
      "metadata": {
        "id": "d98eb410"
      },
      "outputs": [],
      "source": [
        "test_tokens = [word_tokenize(r) for r in test_complaint]"
      ]
    },
    {
      "cell_type": "code",
      "execution_count": null,
      "id": "34113a15",
      "metadata": {
        "id": "34113a15"
      },
      "outputs": [],
      "source": [
        "test_tokens = [[word for word in t if word not in sw] for t in test_tokens]"
      ]
    },
    {
      "cell_type": "code",
      "execution_count": null,
      "id": "45170225",
      "metadata": {
        "id": "45170225"
      },
      "outputs": [],
      "source": [
        "test_tokens = [[\"\".join(tokenizer.tokenize(word)) for word in t\n",
        "              if len(tokenizer.tokenize(word))>0 ] for t in test_tokens]"
      ]
    },
    {
      "cell_type": "code",
      "execution_count": null,
      "id": "7f71a841",
      "metadata": {
        "id": "7f71a841"
      },
      "outputs": [],
      "source": [
        "test_tokens = [[t for t in token if t not in [\"xxxx\", \"000\"]]\n",
        "              for token in test_tokens]"
      ]
    },
    {
      "cell_type": "code",
      "execution_count": null,
      "id": "753b5245",
      "metadata": {
        "id": "753b5245"
      },
      "outputs": [],
      "source": [
        "clean_test_complaints = [\" \".join(complaint) for complaint in test_tokens]"
      ]
    },
    {
      "cell_type": "markdown",
      "id": "75f3cb08",
      "metadata": {
        "id": "75f3cb08"
      },
      "source": [
        "### Vectorize Test Data"
      ]
    },
    {
      "cell_type": "code",
      "execution_count": null,
      "id": "8cf4a7a3",
      "metadata": {
        "id": "8cf4a7a3"
      },
      "outputs": [],
      "source": [
        "X_test = vect.transform(clean_test_complaints)"
      ]
    },
    {
      "cell_type": "markdown",
      "id": "a91b1617",
      "metadata": {
        "id": "a91b1617"
      },
      "source": [
        "### Make Predictions"
      ]
    },
    {
      "cell_type": "code",
      "execution_count": null,
      "id": "2631a62b",
      "metadata": {
        "id": "2631a62b",
        "outputId": "86b49f99-97da-46f0-9d91-f5b550c61c7f"
      },
      "outputs": [
        {
          "data": {
            "text/plain": [
              "array(['debt_collection', 'card'], dtype='<U15')"
            ]
          },
          "execution_count": 202,
          "metadata": {},
          "output_type": "execute_result"
        }
      ],
      "source": [
        "model.predict(X_test)"
      ]
    },
    {
      "cell_type": "markdown",
      "source": [
        "> In this project, we successfully developed a multi-class text classification model using a Multinomial Naive Bayes algorithm to categorize consumer complaints from the financial sector. The data underwent rigorous preprocessing, including noise removal, tokenization, stopword filtering, and transformation using CountVectorizer. After training on over 800,000 complaint records, the model achieved an impressive accuracy of ~78.7%, effectively classifying narratives into product-based categories such as *credit reporting*, *debt collection*, *loan*, and *credit card issues*.\n",
        "\n"
      ],
      "metadata": {
        "id": "7qSC7utV-VHD"
      },
      "id": "7qSC7utV-VHD"
    }
  ],
  "metadata": {
    "kernelspec": {
      "display_name": "Python 3 (ipykernel)",
      "language": "python",
      "name": "python3"
    },
    "language_info": {
      "codemirror_mode": {
        "name": "ipython",
        "version": 3
      },
      "file_extension": ".py",
      "mimetype": "text/x-python",
      "name": "python",
      "nbconvert_exporter": "python",
      "pygments_lexer": "ipython3",
      "version": "3.12.4"
    },
    "colab": {
      "provenance": [],
      "include_colab_link": true
    }
  },
  "nbformat": 4,
  "nbformat_minor": 5
}